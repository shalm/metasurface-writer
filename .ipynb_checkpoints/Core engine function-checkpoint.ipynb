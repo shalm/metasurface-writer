{
 "cells": [
  {
   "cell_type": "code",
   "execution_count": 1,
   "metadata": {},
   "outputs": [],
   "source": [
    "import gdspy\n",
    "import pandas as pd\n",
    "import numpy as np\n",
    "import sys\n",
    "import math"
   ]
  },
  {
   "cell_type": "code",
   "execution_count": 2,
   "metadata": {},
   "outputs": [],
   "source": [
    "baseUnit = 1 #layout scale(microns)\n",
    "m=baseUnit*1e6 \n",
    "nm = m*1E-9"
   ]
  },
  {
   "cell_type": "code",
   "execution_count": 3,
   "metadata": {},
   "outputs": [],
   "source": [
    "def Metashape_placement(Xs, Ys, reference_geometry):\n",
    "    #set up date for file name\n",
    "    outputFileName= str(max(Xs)-min(Xs))+'by'+ str(max(Ys)-min(Ys))+ 'map of geometries'\n",
    "    # Create a cell with a component that is used repeatedly\n",
    "    geometry = gdspy.Cell(\"GEOMETRY\")\n",
    "    geometry.add(reference_geometry)\n",
    "    # Create a cell with the complete lens layout\n",
    "    Lens = gdspy.Cell(\"LENS\")\n",
    "    #center a reference of the geometry at each (x,y) coordinate\n",
    "    for x in Xs:\n",
    "        for y in Ys:  \n",
    "            ref = gdspy.CellReference(geometry, (x, y), magnification=1)\n",
    "            Lens.add(ref)\n",
    "    #creates a file that can be opened on KLayout\n",
    "    gdspy.current_library = gdspy.GdsLibrary()\n",
    "    gdspy.current_library.add(Lens)\n",
    "    gdspy.write_gds(outputFileName + '.gds')"
   ]
  },
  {
   "cell_type": "code",
   "execution_count": 4,
   "metadata": {},
   "outputs": [],
   "source": [
    "#X= range(100)\n",
    "#Y= range(100)\n",
    "#reference_geometry = gdspy.Round((0, 0), 93*nm, tolerance=0.001)\n",
    "#Meta= Metashape_placement(X,Y,reference_geometry)\n",
    "#gdsii = gdspy.GdsLibrary(infile=Meta)\n",
    "#gdspy.LayoutViewer()"
   ]
  },
  {
   "cell_type": "code",
   "execution_count": 5,
   "metadata": {},
   "outputs": [],
   "source": [
    "def Metashape_placement_variances(Xs, Ys, reference_geometry):\n",
    "    #set up date for file name\n",
    "    outputFileName= str(max(Xs)-min(Xs))+'by'+ str(max(Ys)-min(Ys))+ 'map of geometries'\n",
    "    # Create a cell with a component that is used repeatedly\n",
    "    geometry = gdspy.Cell(\"GEOMETRY\")\n",
    "    geometry.add(reference_geometry)\n",
    "    # Create a cell with the complete lens layout\n",
    "    Lens = gdspy.Cell(\"LENS\")\n",
    "    #center a reference of the geometry at each (x,y) coordinate\n",
    "    z=1\n",
    "    for x in Xs:\n",
    "        for y in Ys:  \n",
    "            ref = gdspy.CellReference(geometry, (x, y), magnification= z)\n",
    "            z+=.007\n",
    "            Lens.add(ref)\n",
    "    #creates a file that can be opened on KLayout\n",
    "    gdspy.current_library = gdspy.GdsLibrary()\n",
    "    gdspy.current_library.add(Lens)\n",
    "    gdspy.write_gds(outputFileName + '.gds')"
   ]
  },
  {
   "cell_type": "code",
   "execution_count": 6,
   "metadata": {},
   "outputs": [],
   "source": [
    "X= range(64)\n",
    "Y= range(70)\n",
    "reference_geometry= gdspy.Round((0, 0), 93*nm, tolerance=0.001)\n",
    "Meta= Metashape_placement_variances(X,Y,reference_geometry)\n"
   ]
  }
 ],
 "metadata": {
  "kernelspec": {
   "display_name": "Python 3",
   "language": "python",
   "name": "python3"
  },
  "language_info": {
   "codemirror_mode": {
    "name": "ipython",
    "version": 3
   },
   "file_extension": ".py",
   "mimetype": "text/x-python",
   "name": "python",
   "nbconvert_exporter": "python",
   "pygments_lexer": "ipython3",
   "version": "3.7.4"
  }
 },
 "nbformat": 4,
 "nbformat_minor": 4
}
