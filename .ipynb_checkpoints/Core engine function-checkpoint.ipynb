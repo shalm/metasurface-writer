{
 "cells": [
  {
   "cell_type": "code",
   "execution_count": 1,
   "metadata": {},
   "outputs": [],
   "source": [
    "import gdspy\n",
    "import pandas as pd\n",
    "import numpy as np\n",
    "import sys\n",
    "import math\n",
    "import pattern_writer as pw"
   ]
  },
  {
   "cell_type": "code",
   "execution_count": 2,
   "metadata": {},
   "outputs": [],
   "source": [
    "baseUnit = 1 #layout scale(microns)\n",
    "m=baseUnit*1e6 \n",
    "nm = m*1E-9"
   ]
  },
  {
   "cell_type": "code",
   "execution_count": 3,
   "metadata": {},
   "outputs": [],
   "source": [
    "def Metashape_placement(Xs, Ys, reference_geometry):\n",
    "    #set up date for file name\n",
    "    outputFileName= str(max(Xs)-min(Xs))+'by'+ str(max(Ys)-min(Ys))+ 'map of geometries'\n",
    "    # Create a cell with a component that is used repeatedly\n",
    "    geometry = gdspy.Cell(\"GEOMETRY\")\n",
    "    geometry.add(reference_geometry)\n",
    "    # Create a cell with the complete lens layout\n",
    "    Lens = gdspy.Cell(\"LENS\")\n",
    "    #center a reference of the geometry at each (x,y) coordinate\n",
    "    for x in Xs:\n",
    "        for y in Ys:  \n",
    "            ref = gdspy.CellReference(geometry, (x, y), magnification=1)\n",
    "            Lens.add(ref)\n",
    "    #creates a file that can be opened on KLayout\n",
    "    gdspy.current_library = gdspy.GdsLibrary()\n",
    "    gdspy.current_library.add(Lens)\n",
    "    gdspy.write_gds(outputFileName + '.gds')"
   ]
  },
  {
   "cell_type": "code",
   "execution_count": 4,
   "metadata": {},
   "outputs": [],
   "source": [
    "#X= range(100)\n",
    "#Y= range(100)\n",
    "#reference_geometry = gdspy.Round((0, 0), 93*nm, tolerance=0.001)\n",
    "#Meta= Metashape_placement(X,Y,reference_geometry)\n",
    "#gdsii = gdspy.GdsLibrary(infile=Meta)\n",
    "#gdspy.LayoutViewer()"
   ]
  },
  {
   "cell_type": "code",
   "execution_count": 5,
   "metadata": {},
   "outputs": [],
   "source": [
    "def Metashape_placement_variances(Xs, Ys, reference_geometry):\n",
    "    #set up date for file name\n",
    "    outputFileName= str(max(Xs)-min(Xs))+'by'+ str(max(Ys)-min(Ys))+ 'map of geometries'\n",
    "    # Create a cell with a component that is used repeatedly\n",
    "    geometry = gdspy.Cell(\"GEOMETRY\")\n",
    "    geometry.add(reference_geometry)\n",
    "    # Create a cell with the complete lens layout\n",
    "    Lens = gdspy.Cell(\"LENS\")\n",
    "    #center a reference of the geometry at each (x,y) coordinate\n",
    "    z=1\n",
    "    for x in Xs:\n",
    "        for y in Ys:  \n",
    "            ref = gdspy.CellReference(geometry, (x, y), magnification= z)\n",
    "            z+=.007\n",
    "            Lens.add(ref)\n",
    "    #creates a file that can be opened on KLayout\n",
    "    gdspy.current_library = gdspy.GdsLibrary()\n",
    "    gdspy.current_library.add(Lens)\n",
    "    gdspy.write_gds(outputFileName + '.gds')"
   ]
  },
  {
   "cell_type": "code",
   "execution_count": 6,
   "metadata": {},
   "outputs": [],
   "source": [
    "gdspy.current_library = gdspy.GdsLibrary()\n",
    "X= range(4)\n",
    "Y= range(2)\n",
    "reference_geometry=gdspy.Round((0, 0), 93*nm, tolerance=0.001)\n",
    "geometry = gdspy.Cell(\"Circ_93nm\")\n",
    "geometry.add(reference_geometry)\n",
    "geo1 = gdspy.Cell(\"geo1\")\n",
    "#geo2 = cell(\"geo2\")\n",
    "geo1.add(gdspy.Round((0, 0), [93*nm, 80*nm], tolerance=1e-4))\n",
    "geometries= [geometry, geometry, geometry, geo1, geo1, geo1, geo1, geo1]\n",
    "#[geo1, geo1, geo1, geo2, geo1, geo2....]\n",
    "#Meta= Metashape_placement_variances(X,Y,reference_geometry)\n",
    "test=pw.array_singleReference(X, Y, geometry)"
   ]
  },
  {
   "cell_type": "code",
   "execution_count": 7,
   "metadata": {},
   "outputs": [],
   "source": [
    "Lens = gdspy.Cell(\"LENS\")\n",
    "Lens.add(test)\n",
    "gdspy.current_library.add(Lens)\n",
    "gdspy.write_gds('SamsTest.gds')"
   ]
  },
  {
   "cell_type": "code",
   "execution_count": 8,
   "metadata": {},
   "outputs": [
    {
     "data": {
      "text/plain": [
       "[CellReference(\"Circ_93nm\", (0, 0), None, 1, False),\n",
       " CellReference(\"Circ_93nm\", (0, 1), None, 1, False),\n",
       " CellReference(\"Circ_93nm\", (1, 0), None, 1, False),\n",
       " CellReference(\"Circ_93nm\", (1, 1), None, 1, False),\n",
       " CellReference(\"Circ_93nm\", (2, 0), None, 1, False),\n",
       " CellReference(\"Circ_93nm\", (2, 1), None, 1, False),\n",
       " CellReference(\"Circ_93nm\", (3, 0), None, 1, False),\n",
       " CellReference(\"Circ_93nm\", (3, 1), None, 1, False)]"
      ]
     },
     "execution_count": 8,
     "metadata": {},
     "output_type": "execute_result"
    }
   ],
   "source": [
    "test"
   ]
  },
  {
   "cell_type": "code",
   "execution_count": null,
   "metadata": {},
   "outputs": [],
   "source": [
    "test2= pw.array_diffGeometries(X, Y, geometries)"
   ]
  },
  {
   "cell_type": "code",
   "execution_count": null,
   "metadata": {},
   "outputs": [],
   "source": []
  }
 ],
 "metadata": {
  "kernelspec": {
   "display_name": "Python 3",
   "language": "python",
   "name": "python3"
  },
  "language_info": {
   "codemirror_mode": {
    "name": "ipython",
    "version": 3
   },
   "file_extension": ".py",
   "mimetype": "text/x-python",
   "name": "python",
   "nbconvert_exporter": "python",
   "pygments_lexer": "ipython3",
   "version": "3.8.3"
  }
 },
 "nbformat": 4,
 "nbformat_minor": 4
}
