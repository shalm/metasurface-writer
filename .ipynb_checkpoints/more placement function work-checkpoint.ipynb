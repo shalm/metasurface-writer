{
 "cells": [
  {
   "cell_type": "code",
   "execution_count": 1,
   "metadata": {},
   "outputs": [],
   "source": [
    "import gdspy\n",
    "import pandas as pd\n",
    "import numpy as np\n",
    "import sys\n",
    "import math\n",
    "import pattern_writer as pw"
   ]
  },
  {
   "cell_type": "code",
   "execution_count": 2,
   "metadata": {},
   "outputs": [],
   "source": [
    "baseUnit = 1 #layout scale(microns)\n",
    "m=baseUnit*1e6 \n",
    "nm = m*1E-9"
   ]
  },
  {
   "cell_type": "code",
   "execution_count": 17,
   "metadata": {},
   "outputs": [],
   "source": [
    "def posArrayGenerator(a, b, numA, numB, generator_function, placement_function):\n",
    "    arr=[]\n",
    "    new_x=0\n",
    "    new_y=0\n",
    "    for x in range(-numA,numA+1):\n",
    "        for y in range(-numB,numB+1):\n",
    "            print(x)\n",
    "            print(y)\n",
    "            vec=[(x*a[0]+y*b[0], x*a[1]+y*b[1])]\n",
    "            geometry_cell= generator_function(placement_function(vec[0]))\n",
    "            arr.append(gdspy.CellReference(geometry_cell, (vec[0][0], vec[0][1]), magnification=1))\n",
    "    return arr"
   ]
  },
  {
   "cell_type": "code",
   "execution_count": 46,
   "metadata": {},
   "outputs": [],
   "source": [
    "def recArrayGen(a,b,dim,pos,prevDir, generator_function, placement_function, arr=[]):\n",
    "    [dimX, dimY] = dim\n",
    "    pax=(a[0]+pos[0])<=dimX/2 and (a[0] + pos[0])>=-dimX/2\n",
    "    pay=(a[1]+pos[1])<=dimY/2 and (a[1] + pos[1])>=-dimY/2\n",
    "    pa=bool(pax*pay)\n",
    "    nax=(-a[0]+pos[0])<=dimX/2 and (-a[0] + pos[0])>=-dimX/2\n",
    "    nay=(-a[1]+pos[1])<=dimY/2 and (-a[1] + pos[1])>=-dimY/2\n",
    "    na=bool(nax*nay)\n",
    "    \n",
    "    pbx=(b[0]+pos[0])<=dimX/2 and (b[0] + pos[0])>=-dimX/2\n",
    "    pby=(b[1]+pos[1])<=dimY/2 and (b[1] + pos[1])>=-dimY/2\n",
    "    pb=bool(pbx*pby)\n",
    "    nbx=(-b[0]+pos[0])<=dimX/2 and (-b[0] + pos[0])>=-dimX/2\n",
    "    nby=(-b[1]+pos[1])<=dimY/2 and (-b[1] + pos[1])>=-dimY/2\n",
    "    nb=bool(nbx*nby)\n",
    "    \n",
    "    if prevDir!=(-1,0) and pa:\n",
    "        vec=(a[0] + pos[0], a[1]+pos[1])\n",
    "        geometry_cell= generator_function(placement_function(vec))\n",
    "        arr.append(gdspy.CellReference(geometry_cell, (pos[0], pos[1]), magnification=1))\n",
    "        recArrayGen(a,b,dim, vec, (1,0), generator_function, placement_function, arr=arr)\n",
    "    \n",
    " #   if prevDir!=(1,0) and na:\n",
    " #       vec=(-a[0] + pos[0], -a[1]+pos[1])\n",
    " #       geometry_cell= generator_function(placement_function(vec))\n",
    " #       arr.append(gdspy.CellReference(geometry_cell, (pos[0], pos[1]), magnification=1))\n",
    " #       recArrayGen(a,b,dim, vec, (-1,0), generator_function, placement_function, arr=arr)\n",
    "    \n",
    "#     if prevDir!=(0,-1) and pb:\n",
    "#         vec=(b[0] + pos[0], b[1]+pos[1])\n",
    "#         geometry_cell= generator_function(placement_function(vec))\n",
    "#         arr.append(gdspy.CellReference(geometry_cell, (pos[0], pos[1]), magnification=1))\n",
    "#         recArrayGen(a,b,dim, vec, (0,1), generator_function, placement_function, arr=arr)\n",
    "    \n",
    "#     if prevDir!=(0,1) and nb:\n",
    "#         vec=(-b[0] + pos[0], -b[1]+pos[1])\n",
    "#         geometry_cell= generator_function(placement_function(vec))\n",
    "#         arr.append(gdspy.CellReference(geometry_cell, (pos[0], pos[1]), magnification=1))\n",
    "#         recArrayGen(a,b,dim, vec, (0,-1), generator_function, placement_function, arr=arr)\n",
    "    \n",
    "    return arr\n",
    "    "
   ]
  },
  {
   "cell_type": "code",
   "execution_count": 49,
   "metadata": {},
   "outputs": [
    {
     "ename": "RecursionError",
     "evalue": "maximum recursion depth exceeded while calling a Python object",
     "output_type": "error",
     "traceback": [
      "\u001b[1;31m---------------------------------------------------------------------------\u001b[0m",
      "\u001b[1;31mRecursionError\u001b[0m                            Traceback (most recent call last)",
      "\u001b[1;32m<ipython-input-49-3f158ea5974e>\u001b[0m in \u001b[0;36m<module>\u001b[1;34m\u001b[0m\n\u001b[0;32m     23\u001b[0m \u001b[0marr\u001b[0m\u001b[1;33m=\u001b[0m\u001b[1;33m[\u001b[0m\u001b[1;33m]\u001b[0m\u001b[1;33m\u001b[0m\u001b[1;33m\u001b[0m\u001b[0m\n\u001b[0;32m     24\u001b[0m \u001b[0mdim\u001b[0m\u001b[1;33m=\u001b[0m\u001b[1;33m[\u001b[0m\u001b[1;36m10\u001b[0m\u001b[1;33m,\u001b[0m \u001b[1;36m10\u001b[0m\u001b[1;33m]\u001b[0m\u001b[1;33m\u001b[0m\u001b[1;33m\u001b[0m\u001b[0m\n\u001b[1;32m---> 25\u001b[1;33m \u001b[0mcells\u001b[0m\u001b[1;33m=\u001b[0m\u001b[0mrecArrayGen\u001b[0m\u001b[1;33m(\u001b[0m\u001b[0ma\u001b[0m\u001b[1;33m,\u001b[0m\u001b[0mb\u001b[0m\u001b[1;33m,\u001b[0m\u001b[0mdim\u001b[0m\u001b[1;33m,\u001b[0m\u001b[0mpos\u001b[0m\u001b[1;33m,\u001b[0m\u001b[0mprevDir\u001b[0m\u001b[1;33m,\u001b[0m \u001b[0mg_f\u001b[0m\u001b[1;33m,\u001b[0m \u001b[0mp_f\u001b[0m\u001b[1;33m,\u001b[0m \u001b[0marr\u001b[0m\u001b[1;33m)\u001b[0m\u001b[1;33m\u001b[0m\u001b[1;33m\u001b[0m\u001b[0m\n\u001b[0m",
      "\u001b[1;32m<ipython-input-46-a4a4b8002638>\u001b[0m in \u001b[0;36mrecArrayGen\u001b[1;34m(a, b, dim, pos, prevDir, generator_function, placement_function, arr)\u001b[0m\n\u001b[0;32m     19\u001b[0m         \u001b[0mgeometry_cell\u001b[0m\u001b[1;33m=\u001b[0m \u001b[0mgenerator_function\u001b[0m\u001b[1;33m(\u001b[0m\u001b[0mplacement_function\u001b[0m\u001b[1;33m(\u001b[0m\u001b[0mvec\u001b[0m\u001b[1;33m)\u001b[0m\u001b[1;33m)\u001b[0m\u001b[1;33m\u001b[0m\u001b[1;33m\u001b[0m\u001b[0m\n\u001b[0;32m     20\u001b[0m         \u001b[0marr\u001b[0m\u001b[1;33m.\u001b[0m\u001b[0mappend\u001b[0m\u001b[1;33m(\u001b[0m\u001b[0mgdspy\u001b[0m\u001b[1;33m.\u001b[0m\u001b[0mCellReference\u001b[0m\u001b[1;33m(\u001b[0m\u001b[0mgeometry_cell\u001b[0m\u001b[1;33m,\u001b[0m \u001b[1;33m(\u001b[0m\u001b[0mpos\u001b[0m\u001b[1;33m[\u001b[0m\u001b[1;36m0\u001b[0m\u001b[1;33m]\u001b[0m\u001b[1;33m,\u001b[0m \u001b[0mpos\u001b[0m\u001b[1;33m[\u001b[0m\u001b[1;36m1\u001b[0m\u001b[1;33m]\u001b[0m\u001b[1;33m)\u001b[0m\u001b[1;33m,\u001b[0m \u001b[0mmagnification\u001b[0m\u001b[1;33m=\u001b[0m\u001b[1;36m1\u001b[0m\u001b[1;33m)\u001b[0m\u001b[1;33m)\u001b[0m\u001b[1;33m\u001b[0m\u001b[1;33m\u001b[0m\u001b[0m\n\u001b[1;32m---> 21\u001b[1;33m         \u001b[0mrecArrayGen\u001b[0m\u001b[1;33m(\u001b[0m\u001b[0ma\u001b[0m\u001b[1;33m,\u001b[0m\u001b[0mb\u001b[0m\u001b[1;33m,\u001b[0m\u001b[0mdim\u001b[0m\u001b[1;33m,\u001b[0m \u001b[0mvec\u001b[0m\u001b[1;33m,\u001b[0m \u001b[1;33m(\u001b[0m\u001b[1;36m1\u001b[0m\u001b[1;33m,\u001b[0m\u001b[1;36m0\u001b[0m\u001b[1;33m)\u001b[0m\u001b[1;33m,\u001b[0m \u001b[0mgenerator_function\u001b[0m\u001b[1;33m,\u001b[0m \u001b[0mplacement_function\u001b[0m\u001b[1;33m,\u001b[0m \u001b[0marr\u001b[0m\u001b[1;33m=\u001b[0m\u001b[0marr\u001b[0m\u001b[1;33m)\u001b[0m\u001b[1;33m\u001b[0m\u001b[1;33m\u001b[0m\u001b[0m\n\u001b[0m\u001b[0;32m     22\u001b[0m \u001b[1;33m\u001b[0m\u001b[0m\n\u001b[0;32m     23\u001b[0m     \u001b[1;32mif\u001b[0m \u001b[0mprevDir\u001b[0m\u001b[1;33m!=\u001b[0m\u001b[1;33m(\u001b[0m\u001b[1;36m1\u001b[0m\u001b[1;33m,\u001b[0m\u001b[1;36m0\u001b[0m\u001b[1;33m)\u001b[0m \u001b[1;32mand\u001b[0m \u001b[0mna\u001b[0m\u001b[1;33m:\u001b[0m\u001b[1;33m\u001b[0m\u001b[1;33m\u001b[0m\u001b[0m\n",
      "\u001b[1;32m<ipython-input-46-a4a4b8002638>\u001b[0m in \u001b[0;36mrecArrayGen\u001b[1;34m(a, b, dim, pos, prevDir, generator_function, placement_function, arr)\u001b[0m\n\u001b[0;32m     37\u001b[0m         \u001b[0mgeometry_cell\u001b[0m\u001b[1;33m=\u001b[0m \u001b[0mgenerator_function\u001b[0m\u001b[1;33m(\u001b[0m\u001b[0mplacement_function\u001b[0m\u001b[1;33m(\u001b[0m\u001b[0mvec\u001b[0m\u001b[1;33m)\u001b[0m\u001b[1;33m)\u001b[0m\u001b[1;33m\u001b[0m\u001b[1;33m\u001b[0m\u001b[0m\n\u001b[0;32m     38\u001b[0m         \u001b[0marr\u001b[0m\u001b[1;33m.\u001b[0m\u001b[0mappend\u001b[0m\u001b[1;33m(\u001b[0m\u001b[0mgdspy\u001b[0m\u001b[1;33m.\u001b[0m\u001b[0mCellReference\u001b[0m\u001b[1;33m(\u001b[0m\u001b[0mgeometry_cell\u001b[0m\u001b[1;33m,\u001b[0m \u001b[1;33m(\u001b[0m\u001b[0mpos\u001b[0m\u001b[1;33m[\u001b[0m\u001b[1;36m0\u001b[0m\u001b[1;33m]\u001b[0m\u001b[1;33m,\u001b[0m \u001b[0mpos\u001b[0m\u001b[1;33m[\u001b[0m\u001b[1;36m1\u001b[0m\u001b[1;33m]\u001b[0m\u001b[1;33m)\u001b[0m\u001b[1;33m,\u001b[0m \u001b[0mmagnification\u001b[0m\u001b[1;33m=\u001b[0m\u001b[1;36m1\u001b[0m\u001b[1;33m)\u001b[0m\u001b[1;33m)\u001b[0m\u001b[1;33m\u001b[0m\u001b[1;33m\u001b[0m\u001b[0m\n\u001b[1;32m---> 39\u001b[1;33m         \u001b[0mrecArrayGen\u001b[0m\u001b[1;33m(\u001b[0m\u001b[0ma\u001b[0m\u001b[1;33m,\u001b[0m\u001b[0mb\u001b[0m\u001b[1;33m,\u001b[0m\u001b[0mdim\u001b[0m\u001b[1;33m,\u001b[0m \u001b[0mvec\u001b[0m\u001b[1;33m,\u001b[0m \u001b[1;33m(\u001b[0m\u001b[1;36m0\u001b[0m\u001b[1;33m,\u001b[0m\u001b[1;33m-\u001b[0m\u001b[1;36m1\u001b[0m\u001b[1;33m)\u001b[0m\u001b[1;33m,\u001b[0m \u001b[0mgenerator_function\u001b[0m\u001b[1;33m,\u001b[0m \u001b[0mplacement_function\u001b[0m\u001b[1;33m,\u001b[0m \u001b[0marr\u001b[0m\u001b[1;33m=\u001b[0m\u001b[0marr\u001b[0m\u001b[1;33m)\u001b[0m\u001b[1;33m\u001b[0m\u001b[1;33m\u001b[0m\u001b[0m\n\u001b[0m\u001b[0;32m     40\u001b[0m \u001b[1;33m\u001b[0m\u001b[0m\n\u001b[0;32m     41\u001b[0m     \u001b[1;32mreturn\u001b[0m \u001b[0marr\u001b[0m\u001b[1;33m\u001b[0m\u001b[1;33m\u001b[0m\u001b[0m\n",
      "\u001b[1;32m<ipython-input-46-a4a4b8002638>\u001b[0m in \u001b[0;36mrecArrayGen\u001b[1;34m(a, b, dim, pos, prevDir, generator_function, placement_function, arr)\u001b[0m\n\u001b[0;32m     19\u001b[0m         \u001b[0mgeometry_cell\u001b[0m\u001b[1;33m=\u001b[0m \u001b[0mgenerator_function\u001b[0m\u001b[1;33m(\u001b[0m\u001b[0mplacement_function\u001b[0m\u001b[1;33m(\u001b[0m\u001b[0mvec\u001b[0m\u001b[1;33m)\u001b[0m\u001b[1;33m)\u001b[0m\u001b[1;33m\u001b[0m\u001b[1;33m\u001b[0m\u001b[0m\n\u001b[0;32m     20\u001b[0m         \u001b[0marr\u001b[0m\u001b[1;33m.\u001b[0m\u001b[0mappend\u001b[0m\u001b[1;33m(\u001b[0m\u001b[0mgdspy\u001b[0m\u001b[1;33m.\u001b[0m\u001b[0mCellReference\u001b[0m\u001b[1;33m(\u001b[0m\u001b[0mgeometry_cell\u001b[0m\u001b[1;33m,\u001b[0m \u001b[1;33m(\u001b[0m\u001b[0mpos\u001b[0m\u001b[1;33m[\u001b[0m\u001b[1;36m0\u001b[0m\u001b[1;33m]\u001b[0m\u001b[1;33m,\u001b[0m \u001b[0mpos\u001b[0m\u001b[1;33m[\u001b[0m\u001b[1;36m1\u001b[0m\u001b[1;33m]\u001b[0m\u001b[1;33m)\u001b[0m\u001b[1;33m,\u001b[0m \u001b[0mmagnification\u001b[0m\u001b[1;33m=\u001b[0m\u001b[1;36m1\u001b[0m\u001b[1;33m)\u001b[0m\u001b[1;33m)\u001b[0m\u001b[1;33m\u001b[0m\u001b[1;33m\u001b[0m\u001b[0m\n\u001b[1;32m---> 21\u001b[1;33m         \u001b[0mrecArrayGen\u001b[0m\u001b[1;33m(\u001b[0m\u001b[0ma\u001b[0m\u001b[1;33m,\u001b[0m\u001b[0mb\u001b[0m\u001b[1;33m,\u001b[0m\u001b[0mdim\u001b[0m\u001b[1;33m,\u001b[0m \u001b[0mvec\u001b[0m\u001b[1;33m,\u001b[0m \u001b[1;33m(\u001b[0m\u001b[1;36m1\u001b[0m\u001b[1;33m,\u001b[0m\u001b[1;36m0\u001b[0m\u001b[1;33m)\u001b[0m\u001b[1;33m,\u001b[0m \u001b[0mgenerator_function\u001b[0m\u001b[1;33m,\u001b[0m \u001b[0mplacement_function\u001b[0m\u001b[1;33m,\u001b[0m \u001b[0marr\u001b[0m\u001b[1;33m=\u001b[0m\u001b[0marr\u001b[0m\u001b[1;33m)\u001b[0m\u001b[1;33m\u001b[0m\u001b[1;33m\u001b[0m\u001b[0m\n\u001b[0m\u001b[0;32m     22\u001b[0m \u001b[1;33m\u001b[0m\u001b[0m\n\u001b[0;32m     23\u001b[0m     \u001b[1;32mif\u001b[0m \u001b[0mprevDir\u001b[0m\u001b[1;33m!=\u001b[0m\u001b[1;33m(\u001b[0m\u001b[1;36m1\u001b[0m\u001b[1;33m,\u001b[0m\u001b[1;36m0\u001b[0m\u001b[1;33m)\u001b[0m \u001b[1;32mand\u001b[0m \u001b[0mna\u001b[0m\u001b[1;33m:\u001b[0m\u001b[1;33m\u001b[0m\u001b[1;33m\u001b[0m\u001b[0m\n",
      "\u001b[1;32m<ipython-input-46-a4a4b8002638>\u001b[0m in \u001b[0;36mrecArrayGen\u001b[1;34m(a, b, dim, pos, prevDir, generator_function, placement_function, arr)\u001b[0m\n\u001b[0;32m     37\u001b[0m         \u001b[0mgeometry_cell\u001b[0m\u001b[1;33m=\u001b[0m \u001b[0mgenerator_function\u001b[0m\u001b[1;33m(\u001b[0m\u001b[0mplacement_function\u001b[0m\u001b[1;33m(\u001b[0m\u001b[0mvec\u001b[0m\u001b[1;33m)\u001b[0m\u001b[1;33m)\u001b[0m\u001b[1;33m\u001b[0m\u001b[1;33m\u001b[0m\u001b[0m\n\u001b[0;32m     38\u001b[0m         \u001b[0marr\u001b[0m\u001b[1;33m.\u001b[0m\u001b[0mappend\u001b[0m\u001b[1;33m(\u001b[0m\u001b[0mgdspy\u001b[0m\u001b[1;33m.\u001b[0m\u001b[0mCellReference\u001b[0m\u001b[1;33m(\u001b[0m\u001b[0mgeometry_cell\u001b[0m\u001b[1;33m,\u001b[0m \u001b[1;33m(\u001b[0m\u001b[0mpos\u001b[0m\u001b[1;33m[\u001b[0m\u001b[1;36m0\u001b[0m\u001b[1;33m]\u001b[0m\u001b[1;33m,\u001b[0m \u001b[0mpos\u001b[0m\u001b[1;33m[\u001b[0m\u001b[1;36m1\u001b[0m\u001b[1;33m]\u001b[0m\u001b[1;33m)\u001b[0m\u001b[1;33m,\u001b[0m \u001b[0mmagnification\u001b[0m\u001b[1;33m=\u001b[0m\u001b[1;36m1\u001b[0m\u001b[1;33m)\u001b[0m\u001b[1;33m)\u001b[0m\u001b[1;33m\u001b[0m\u001b[1;33m\u001b[0m\u001b[0m\n\u001b[1;32m---> 39\u001b[1;33m         \u001b[0mrecArrayGen\u001b[0m\u001b[1;33m(\u001b[0m\u001b[0ma\u001b[0m\u001b[1;33m,\u001b[0m\u001b[0mb\u001b[0m\u001b[1;33m,\u001b[0m\u001b[0mdim\u001b[0m\u001b[1;33m,\u001b[0m \u001b[0mvec\u001b[0m\u001b[1;33m,\u001b[0m \u001b[1;33m(\u001b[0m\u001b[1;36m0\u001b[0m\u001b[1;33m,\u001b[0m\u001b[1;33m-\u001b[0m\u001b[1;36m1\u001b[0m\u001b[1;33m)\u001b[0m\u001b[1;33m,\u001b[0m \u001b[0mgenerator_function\u001b[0m\u001b[1;33m,\u001b[0m \u001b[0mplacement_function\u001b[0m\u001b[1;33m,\u001b[0m \u001b[0marr\u001b[0m\u001b[1;33m=\u001b[0m\u001b[0marr\u001b[0m\u001b[1;33m)\u001b[0m\u001b[1;33m\u001b[0m\u001b[1;33m\u001b[0m\u001b[0m\n\u001b[0m\u001b[0;32m     40\u001b[0m \u001b[1;33m\u001b[0m\u001b[0m\n\u001b[0;32m     41\u001b[0m     \u001b[1;32mreturn\u001b[0m \u001b[0marr\u001b[0m\u001b[1;33m\u001b[0m\u001b[1;33m\u001b[0m\u001b[0m\n",
      "... last 4 frames repeated, from the frame below ...\n",
      "\u001b[1;32m<ipython-input-46-a4a4b8002638>\u001b[0m in \u001b[0;36mrecArrayGen\u001b[1;34m(a, b, dim, pos, prevDir, generator_function, placement_function, arr)\u001b[0m\n\u001b[0;32m     19\u001b[0m         \u001b[0mgeometry_cell\u001b[0m\u001b[1;33m=\u001b[0m \u001b[0mgenerator_function\u001b[0m\u001b[1;33m(\u001b[0m\u001b[0mplacement_function\u001b[0m\u001b[1;33m(\u001b[0m\u001b[0mvec\u001b[0m\u001b[1;33m)\u001b[0m\u001b[1;33m)\u001b[0m\u001b[1;33m\u001b[0m\u001b[1;33m\u001b[0m\u001b[0m\n\u001b[0;32m     20\u001b[0m         \u001b[0marr\u001b[0m\u001b[1;33m.\u001b[0m\u001b[0mappend\u001b[0m\u001b[1;33m(\u001b[0m\u001b[0mgdspy\u001b[0m\u001b[1;33m.\u001b[0m\u001b[0mCellReference\u001b[0m\u001b[1;33m(\u001b[0m\u001b[0mgeometry_cell\u001b[0m\u001b[1;33m,\u001b[0m \u001b[1;33m(\u001b[0m\u001b[0mpos\u001b[0m\u001b[1;33m[\u001b[0m\u001b[1;36m0\u001b[0m\u001b[1;33m]\u001b[0m\u001b[1;33m,\u001b[0m \u001b[0mpos\u001b[0m\u001b[1;33m[\u001b[0m\u001b[1;36m1\u001b[0m\u001b[1;33m]\u001b[0m\u001b[1;33m)\u001b[0m\u001b[1;33m,\u001b[0m \u001b[0mmagnification\u001b[0m\u001b[1;33m=\u001b[0m\u001b[1;36m1\u001b[0m\u001b[1;33m)\u001b[0m\u001b[1;33m)\u001b[0m\u001b[1;33m\u001b[0m\u001b[1;33m\u001b[0m\u001b[0m\n\u001b[1;32m---> 21\u001b[1;33m         \u001b[0mrecArrayGen\u001b[0m\u001b[1;33m(\u001b[0m\u001b[0ma\u001b[0m\u001b[1;33m,\u001b[0m\u001b[0mb\u001b[0m\u001b[1;33m,\u001b[0m\u001b[0mdim\u001b[0m\u001b[1;33m,\u001b[0m \u001b[0mvec\u001b[0m\u001b[1;33m,\u001b[0m \u001b[1;33m(\u001b[0m\u001b[1;36m1\u001b[0m\u001b[1;33m,\u001b[0m\u001b[1;36m0\u001b[0m\u001b[1;33m)\u001b[0m\u001b[1;33m,\u001b[0m \u001b[0mgenerator_function\u001b[0m\u001b[1;33m,\u001b[0m \u001b[0mplacement_function\u001b[0m\u001b[1;33m,\u001b[0m \u001b[0marr\u001b[0m\u001b[1;33m=\u001b[0m\u001b[0marr\u001b[0m\u001b[1;33m)\u001b[0m\u001b[1;33m\u001b[0m\u001b[1;33m\u001b[0m\u001b[0m\n\u001b[0m\u001b[0;32m     22\u001b[0m \u001b[1;33m\u001b[0m\u001b[0m\n\u001b[0;32m     23\u001b[0m     \u001b[1;32mif\u001b[0m \u001b[0mprevDir\u001b[0m\u001b[1;33m!=\u001b[0m\u001b[1;33m(\u001b[0m\u001b[1;36m1\u001b[0m\u001b[1;33m,\u001b[0m\u001b[1;36m0\u001b[0m\u001b[1;33m)\u001b[0m \u001b[1;32mand\u001b[0m \u001b[0mna\u001b[0m\u001b[1;33m:\u001b[0m\u001b[1;33m\u001b[0m\u001b[1;33m\u001b[0m\u001b[0m\n",
      "\u001b[1;31mRecursionError\u001b[0m: maximum recursion depth exceeded while calling a Python object"
     ]
    }
   ],
   "source": [
    "gdspy.current_library = gdspy.GdsLibrary()\n",
    "geometry1 = gdspy.Cell(\"CIRCLE\")\n",
    "geometry1.add(gdspy.Round((0, 0), 72*nm, tolerance=0.001))\n",
    "geometry2 = gdspy.Cell(\"OVAL\")\n",
    "geometry2.add(gdspy.Round((0, 0), [72*nm, 64*nm], tolerance=1e-4))\n",
    "def p_f(point):\n",
    "    return np.sqrt(point[0]**2 + point[1]**2)\n",
    "def g_f(distance):\n",
    "    if distance < 500*nm:\n",
    "        #geometry1 = gdspy.Cell(\"CIRCLE\")\n",
    "        #geometry1.add(gdspy.Round((0, 0), 93*nm, tolerance=0.001))\n",
    "        return geometry1\n",
    "    else:\n",
    "        #geometry2 = gdspy.Cell(\"OVAL\")\n",
    "        #geometry2.add(gdspy.Round((0, 0), [93*nm, 80*nm], tolerance=1e-4))\n",
    "        return geometry2\n",
    "#y = layout_placement2(230*nm, 570*nm,70,4,6,g_f, p_f)\n",
    "#y = posArrayGenerator([4,2], [5,3], 2, 2 ,g_f, p_f)\n",
    "a=[4,2]\n",
    "b=[5,3]\n",
    "pos=(0,0)\n",
    "prevDir=(0,0)\n",
    "arr=[]\n",
    "dim=[10, 10]\n",
    "cells=recArrayGen(a,b,dim,pos,prevDir, g_f, p_f, arr)"
   ]
  },
  {
   "cell_type": "code",
   "execution_count": null,
   "metadata": {},
   "outputs": [],
   "source": [
    "gdspy.current_library = gdspy.GdsLibrary()\n",
    "\n",
    "Lens = gdspy.Cell(\"LENS\")\n",
    "Lens.add(cells)\n",
    "gdspy.current_library.add(Lens)\n",
    "gdspy.write_gds('Testing36.gds')"
   ]
  },
  {
   "cell_type": "code",
   "execution_count": null,
   "metadata": {},
   "outputs": [],
   "source": []
  }
 ],
 "metadata": {
  "kernelspec": {
   "display_name": "Python 3",
   "language": "python",
   "name": "python3"
  },
  "language_info": {
   "codemirror_mode": {
    "name": "ipython",
    "version": 3
   },
   "file_extension": ".py",
   "mimetype": "text/x-python",
   "name": "python",
   "nbconvert_exporter": "python",
   "pygments_lexer": "ipython3",
   "version": "3.7.4"
  }
 },
 "nbformat": 4,
 "nbformat_minor": 4
}
