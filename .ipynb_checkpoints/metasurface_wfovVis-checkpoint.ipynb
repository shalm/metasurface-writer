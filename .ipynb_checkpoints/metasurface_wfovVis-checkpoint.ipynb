{
 "cells": [
  {
   "cell_type": "code",
   "execution_count": 1,
   "metadata": {},
   "outputs": [],
   "source": [
    "#script for generating a metasurface gds layout\n",
    "#authors: Mikhail Shalaginov (mys@mit.edu) and Samuel Peana\n",
    "\n",
    "#import necessary libraries and frameworks\n",
    "import gdspy\n",
    "import pandas as pd\n",
    "import numpy as np\n",
    "import sys\n",
    "\n",
    "import matplotlib.pylab as plt\n",
    "import matplotlib.pyplot\n",
    "\n",
    "from mpl_toolkits.mplot3d import Axes3D  # noqa: F401 unused import\n",
    "from matplotlib import cm\n",
    "from matplotlib.ticker import LinearLocator, FormatStrFormatter\n",
    "from numpy import savetxt\n",
    "\n",
    "from datetime import date"
   ]
  },
  {
   "cell_type": "code",
   "execution_count": 2,
   "metadata": {},
   "outputs": [],
   "source": [
    "#input parameters\n",
    "baseUnit = 1 #layout scale(microns)\n",
    "m=baseUnit*1e6 \n",
    "nm = m*1E-9\n",
    "mm = m*1e-3\n",
    "\n",
    "# inputFileName = 'phi_meta_discr_No_Error_visible_WFOV'\n",
    "\n",
    "periodX = 320*nm #period along x-axis\n",
    "periodY = 320*nm #period along y-axis\n",
    "Xmax = 3.5*mm + periodX/2 #half of the metasurface length\n",
    "Ymax = 3.5*mm + periodY/2 #half of the metasurface width\n",
    "Nx = 2*Xmax/periodX #number of meta-atoms along x-axis\n",
    "Ny = 2*Ymax/periodY #number of meta-atoms along y-axis\n",
    "\n",
    "phaseStep = 45 #phase step in degrees\n",
    "radiusCut = 3.5*mm #cut radius\n",
    "widthCut = 3.8*mm #slit width\n",
    "\n",
    "today = date.today()\n",
    "date = today.strftime(\"%Y%m%d\")\n",
    "\n",
    "outputFileName = date + '_metasurfaceTest_' + 'rad'+str(radiusCut/1000) + 'mm_width' + str(widthCut/1000) + 'mm_' + 'mys'\n"
   ]
  },
  {
   "cell_type": "code",
   "execution_count": 3,
   "metadata": {},
   "outputs": [
    {
     "ename": "FileNotFoundError",
     "evalue": "[Errno 2] File phi_meta_discr_No_Error_visible_WFOV.csv does not exist: 'phi_meta_discr_No_Error_visible_WFOV.csv'",
     "output_type": "error",
     "traceback": [
      "\u001b[0;31m---------------------------------------------------------------------------\u001b[0m",
      "\u001b[0;31mFileNotFoundError\u001b[0m                         Traceback (most recent call last)",
      "\u001b[0;32m<ipython-input-3-8a77fd325bd8>\u001b[0m in \u001b[0;36m<module>\u001b[0;34m\u001b[0m\n\u001b[1;32m      1\u001b[0m \u001b[0;31m#load phase map\u001b[0m\u001b[0;34m\u001b[0m\u001b[0;34m\u001b[0m\u001b[0;34m\u001b[0m\u001b[0m\n\u001b[0;32m----> 2\u001b[0;31m \u001b[0mphaseMap\u001b[0m \u001b[0;34m=\u001b[0m \u001b[0mpd\u001b[0m\u001b[0;34m.\u001b[0m\u001b[0mread_csv\u001b[0m\u001b[0;34m(\u001b[0m\u001b[0;34m'phi_meta_discr_No_Error_visible_WFOV.csv'\u001b[0m\u001b[0;34m)\u001b[0m\u001b[0;34m\u001b[0m\u001b[0;34m\u001b[0m\u001b[0m\n\u001b[0m\u001b[1;32m      3\u001b[0m \u001b[0mphaseMap\u001b[0m \u001b[0;34m=\u001b[0m \u001b[0mphaseMap\u001b[0m\u001b[0;34m.\u001b[0m\u001b[0mvalues\u001b[0m\u001b[0;34m.\u001b[0m\u001b[0mtolist\u001b[0m\u001b[0;34m(\u001b[0m\u001b[0;34m)\u001b[0m\u001b[0;34m\u001b[0m\u001b[0;34m\u001b[0m\u001b[0m\n",
      "\u001b[0;32m/opt/anaconda3/lib/python3.8/site-packages/pandas/io/parsers.py\u001b[0m in \u001b[0;36mparser_f\u001b[0;34m(filepath_or_buffer, sep, delimiter, header, names, index_col, usecols, squeeze, prefix, mangle_dupe_cols, dtype, engine, converters, true_values, false_values, skipinitialspace, skiprows, skipfooter, nrows, na_values, keep_default_na, na_filter, verbose, skip_blank_lines, parse_dates, infer_datetime_format, keep_date_col, date_parser, dayfirst, cache_dates, iterator, chunksize, compression, thousands, decimal, lineterminator, quotechar, quoting, doublequote, escapechar, comment, encoding, dialect, error_bad_lines, warn_bad_lines, delim_whitespace, low_memory, memory_map, float_precision)\u001b[0m\n\u001b[1;32m    674\u001b[0m         )\n\u001b[1;32m    675\u001b[0m \u001b[0;34m\u001b[0m\u001b[0m\n\u001b[0;32m--> 676\u001b[0;31m         \u001b[0;32mreturn\u001b[0m \u001b[0m_read\u001b[0m\u001b[0;34m(\u001b[0m\u001b[0mfilepath_or_buffer\u001b[0m\u001b[0;34m,\u001b[0m \u001b[0mkwds\u001b[0m\u001b[0;34m)\u001b[0m\u001b[0;34m\u001b[0m\u001b[0;34m\u001b[0m\u001b[0m\n\u001b[0m\u001b[1;32m    677\u001b[0m \u001b[0;34m\u001b[0m\u001b[0m\n\u001b[1;32m    678\u001b[0m     \u001b[0mparser_f\u001b[0m\u001b[0;34m.\u001b[0m\u001b[0m__name__\u001b[0m \u001b[0;34m=\u001b[0m \u001b[0mname\u001b[0m\u001b[0;34m\u001b[0m\u001b[0;34m\u001b[0m\u001b[0m\n",
      "\u001b[0;32m/opt/anaconda3/lib/python3.8/site-packages/pandas/io/parsers.py\u001b[0m in \u001b[0;36m_read\u001b[0;34m(filepath_or_buffer, kwds)\u001b[0m\n\u001b[1;32m    446\u001b[0m \u001b[0;34m\u001b[0m\u001b[0m\n\u001b[1;32m    447\u001b[0m     \u001b[0;31m# Create the parser.\u001b[0m\u001b[0;34m\u001b[0m\u001b[0;34m\u001b[0m\u001b[0;34m\u001b[0m\u001b[0m\n\u001b[0;32m--> 448\u001b[0;31m     \u001b[0mparser\u001b[0m \u001b[0;34m=\u001b[0m \u001b[0mTextFileReader\u001b[0m\u001b[0;34m(\u001b[0m\u001b[0mfp_or_buf\u001b[0m\u001b[0;34m,\u001b[0m \u001b[0;34m**\u001b[0m\u001b[0mkwds\u001b[0m\u001b[0;34m)\u001b[0m\u001b[0;34m\u001b[0m\u001b[0;34m\u001b[0m\u001b[0m\n\u001b[0m\u001b[1;32m    449\u001b[0m \u001b[0;34m\u001b[0m\u001b[0m\n\u001b[1;32m    450\u001b[0m     \u001b[0;32mif\u001b[0m \u001b[0mchunksize\u001b[0m \u001b[0;32mor\u001b[0m \u001b[0miterator\u001b[0m\u001b[0;34m:\u001b[0m\u001b[0;34m\u001b[0m\u001b[0;34m\u001b[0m\u001b[0m\n",
      "\u001b[0;32m/opt/anaconda3/lib/python3.8/site-packages/pandas/io/parsers.py\u001b[0m in \u001b[0;36m__init__\u001b[0;34m(self, f, engine, **kwds)\u001b[0m\n\u001b[1;32m    878\u001b[0m             \u001b[0mself\u001b[0m\u001b[0;34m.\u001b[0m\u001b[0moptions\u001b[0m\u001b[0;34m[\u001b[0m\u001b[0;34m\"has_index_names\"\u001b[0m\u001b[0;34m]\u001b[0m \u001b[0;34m=\u001b[0m \u001b[0mkwds\u001b[0m\u001b[0;34m[\u001b[0m\u001b[0;34m\"has_index_names\"\u001b[0m\u001b[0;34m]\u001b[0m\u001b[0;34m\u001b[0m\u001b[0;34m\u001b[0m\u001b[0m\n\u001b[1;32m    879\u001b[0m \u001b[0;34m\u001b[0m\u001b[0m\n\u001b[0;32m--> 880\u001b[0;31m         \u001b[0mself\u001b[0m\u001b[0;34m.\u001b[0m\u001b[0m_make_engine\u001b[0m\u001b[0;34m(\u001b[0m\u001b[0mself\u001b[0m\u001b[0;34m.\u001b[0m\u001b[0mengine\u001b[0m\u001b[0;34m)\u001b[0m\u001b[0;34m\u001b[0m\u001b[0;34m\u001b[0m\u001b[0m\n\u001b[0m\u001b[1;32m    881\u001b[0m \u001b[0;34m\u001b[0m\u001b[0m\n\u001b[1;32m    882\u001b[0m     \u001b[0;32mdef\u001b[0m \u001b[0mclose\u001b[0m\u001b[0;34m(\u001b[0m\u001b[0mself\u001b[0m\u001b[0;34m)\u001b[0m\u001b[0;34m:\u001b[0m\u001b[0;34m\u001b[0m\u001b[0;34m\u001b[0m\u001b[0m\n",
      "\u001b[0;32m/opt/anaconda3/lib/python3.8/site-packages/pandas/io/parsers.py\u001b[0m in \u001b[0;36m_make_engine\u001b[0;34m(self, engine)\u001b[0m\n\u001b[1;32m   1112\u001b[0m     \u001b[0;32mdef\u001b[0m \u001b[0m_make_engine\u001b[0m\u001b[0;34m(\u001b[0m\u001b[0mself\u001b[0m\u001b[0;34m,\u001b[0m \u001b[0mengine\u001b[0m\u001b[0;34m=\u001b[0m\u001b[0;34m\"c\"\u001b[0m\u001b[0;34m)\u001b[0m\u001b[0;34m:\u001b[0m\u001b[0;34m\u001b[0m\u001b[0;34m\u001b[0m\u001b[0m\n\u001b[1;32m   1113\u001b[0m         \u001b[0;32mif\u001b[0m \u001b[0mengine\u001b[0m \u001b[0;34m==\u001b[0m \u001b[0;34m\"c\"\u001b[0m\u001b[0;34m:\u001b[0m\u001b[0;34m\u001b[0m\u001b[0;34m\u001b[0m\u001b[0m\n\u001b[0;32m-> 1114\u001b[0;31m             \u001b[0mself\u001b[0m\u001b[0;34m.\u001b[0m\u001b[0m_engine\u001b[0m \u001b[0;34m=\u001b[0m \u001b[0mCParserWrapper\u001b[0m\u001b[0;34m(\u001b[0m\u001b[0mself\u001b[0m\u001b[0;34m.\u001b[0m\u001b[0mf\u001b[0m\u001b[0;34m,\u001b[0m \u001b[0;34m**\u001b[0m\u001b[0mself\u001b[0m\u001b[0;34m.\u001b[0m\u001b[0moptions\u001b[0m\u001b[0;34m)\u001b[0m\u001b[0;34m\u001b[0m\u001b[0;34m\u001b[0m\u001b[0m\n\u001b[0m\u001b[1;32m   1115\u001b[0m         \u001b[0;32melse\u001b[0m\u001b[0;34m:\u001b[0m\u001b[0;34m\u001b[0m\u001b[0;34m\u001b[0m\u001b[0m\n\u001b[1;32m   1116\u001b[0m             \u001b[0;32mif\u001b[0m \u001b[0mengine\u001b[0m \u001b[0;34m==\u001b[0m \u001b[0;34m\"python\"\u001b[0m\u001b[0;34m:\u001b[0m\u001b[0;34m\u001b[0m\u001b[0;34m\u001b[0m\u001b[0m\n",
      "\u001b[0;32m/opt/anaconda3/lib/python3.8/site-packages/pandas/io/parsers.py\u001b[0m in \u001b[0;36m__init__\u001b[0;34m(self, src, **kwds)\u001b[0m\n\u001b[1;32m   1889\u001b[0m         \u001b[0mkwds\u001b[0m\u001b[0;34m[\u001b[0m\u001b[0;34m\"usecols\"\u001b[0m\u001b[0;34m]\u001b[0m \u001b[0;34m=\u001b[0m \u001b[0mself\u001b[0m\u001b[0;34m.\u001b[0m\u001b[0musecols\u001b[0m\u001b[0;34m\u001b[0m\u001b[0;34m\u001b[0m\u001b[0m\n\u001b[1;32m   1890\u001b[0m \u001b[0;34m\u001b[0m\u001b[0m\n\u001b[0;32m-> 1891\u001b[0;31m         \u001b[0mself\u001b[0m\u001b[0;34m.\u001b[0m\u001b[0m_reader\u001b[0m \u001b[0;34m=\u001b[0m \u001b[0mparsers\u001b[0m\u001b[0;34m.\u001b[0m\u001b[0mTextReader\u001b[0m\u001b[0;34m(\u001b[0m\u001b[0msrc\u001b[0m\u001b[0;34m,\u001b[0m \u001b[0;34m**\u001b[0m\u001b[0mkwds\u001b[0m\u001b[0;34m)\u001b[0m\u001b[0;34m\u001b[0m\u001b[0;34m\u001b[0m\u001b[0m\n\u001b[0m\u001b[1;32m   1892\u001b[0m         \u001b[0mself\u001b[0m\u001b[0;34m.\u001b[0m\u001b[0munnamed_cols\u001b[0m \u001b[0;34m=\u001b[0m \u001b[0mself\u001b[0m\u001b[0;34m.\u001b[0m\u001b[0m_reader\u001b[0m\u001b[0;34m.\u001b[0m\u001b[0munnamed_cols\u001b[0m\u001b[0;34m\u001b[0m\u001b[0;34m\u001b[0m\u001b[0m\n\u001b[1;32m   1893\u001b[0m \u001b[0;34m\u001b[0m\u001b[0m\n",
      "\u001b[0;32mpandas/_libs/parsers.pyx\u001b[0m in \u001b[0;36mpandas._libs.parsers.TextReader.__cinit__\u001b[0;34m()\u001b[0m\n",
      "\u001b[0;32mpandas/_libs/parsers.pyx\u001b[0m in \u001b[0;36mpandas._libs.parsers.TextReader._setup_parser_source\u001b[0;34m()\u001b[0m\n",
      "\u001b[0;31mFileNotFoundError\u001b[0m: [Errno 2] File phi_meta_discr_No_Error_visible_WFOV.csv does not exist: 'phi_meta_discr_No_Error_visible_WFOV.csv'"
     ]
    }
   ],
   "source": [
    "#load phase map\n",
    "phaseMap = pd.read_csv('phi_meta_discr_No_Error_visible_WFOV.csv')\n",
    "phaseMap = phaseMap.values.tolist()"
   ]
  },
  {
   "cell_type": "code",
   "execution_count": null,
   "metadata": {},
   "outputs": [],
   "source": [
    "Nx"
   ]
  },
  {
   "cell_type": "code",
   "execution_count": null,
   "metadata": {},
   "outputs": [],
   "source": [
    "#croping to a quater of the phasemap (4fold symmetry)\n",
    "phaseMap = phaseMap[0:10938][0:10938]"
   ]
  },
  {
   "cell_type": "code",
   "execution_count": null,
   "metadata": {},
   "outputs": [],
   "source": [
    "# #generating analytical phase map\n",
    "# f = 2.5*mm #focal distance\n",
    "# lam = 680*nm #wavelength"
   ]
  },
  {
   "cell_type": "code",
   "execution_count": null,
   "metadata": {},
   "outputs": [],
   "source": [
    "# #example of 1D ideal planar lens\n",
    "# x = np.linspace(-Xmax,Xmax,Nx)\n",
    "# phase_analyt0 = 2*np.pi/lam*(np.sqrt(x**2+f**2)-f)\n",
    "# phase_analyt = np.remainder(phase_analyt0,2*np.pi)\n",
    "\n",
    "# #plotting the phase dependence\n",
    "# plt.plot(x, phase_analyt)\n",
    "# plt.xlabel('x, um')\n",
    "# plt.ylabel('phase, rad')\n",
    "# fig = matplotlib.pyplot.gcf()\n",
    "# fig.set_size_inches(20, 4)"
   ]
  },
  {
   "cell_type": "code",
   "execution_count": null,
   "metadata": {},
   "outputs": [],
   "source": [
    "#generating 2D phase map for an ideal planar lens\n",
    "x = np.linspace(0,Xmax,Nx/2)\n",
    "y = np.linspace(0,Ymax,Ny/2)\n",
    "phase = []\n",
    "\n",
    "X,Y = np.meshgrid(x,y)\n",
    "# phaseMap = np.rint(180/np.pi*np.remainder(2*np.pi/lam*(np.sqrt(X**2+Y**2+f**2)-f),2*np.pi)) #in degrees  "
   ]
  },
  {
   "cell_type": "code",
   "execution_count": null,
   "metadata": {},
   "outputs": [],
   "source": [
    "len(x)"
   ]
  },
  {
   "cell_type": "code",
   "execution_count": null,
   "metadata": {},
   "outputs": [],
   "source": [
    "# savetxt('metasurface_phaseMap.csv', phaseMap, delimiter=',')"
   ]
  },
  {
   "cell_type": "code",
   "execution_count": null,
   "metadata": {},
   "outputs": [],
   "source": [
    "# #2D surface plot\n",
    "# fig = plt.figure()\n",
    "# plt.contourf(X,Y,phaseMap, cmap=cm.jet)\n",
    "# fig = matplotlib.pyplot.gcf()\n",
    "# fig.set_size_inches(10, 10)"
   ]
  },
  {
   "cell_type": "code",
   "execution_count": null,
   "metadata": {},
   "outputs": [],
   "source": [
    "#generating spatial map of (x,y) cells with the total size of a phaseMap\n",
    "def spatialMapGenerator(periodX, periodY, phaseMap):\n",
    "    spatialMap = [[[periodX*x-Xmax, periodY*y-Ymax] for x in range(len(phaseMap))] for y in range(len(phaseMap[0]))]\n",
    "    return spatialMap"
   ]
  },
  {
   "cell_type": "code",
   "execution_count": null,
   "metadata": {},
   "outputs": [],
   "source": [
    "spatialMap = spatialMapGenerator(periodX, periodY, phaseMap)\n",
    "# spatialMap\n"
   ]
  },
  {
   "cell_type": "code",
   "execution_count": 4,
   "metadata": {},
   "outputs": [
    {
     "ename": "NameError",
     "evalue": "name 'spatialMap' is not defined",
     "output_type": "error",
     "traceback": [
      "\u001b[1;31m---------------------------------------------------------------------------\u001b[0m",
      "\u001b[1;31mNameError\u001b[0m                                 Traceback (most recent call last)",
      "\u001b[1;32m<ipython-input-4-6e05a19d3f9b>\u001b[0m in \u001b[0;36m<module>\u001b[1;34m\u001b[0m\n\u001b[1;32m----> 1\u001b[1;33m \u001b[0mlen\u001b[0m\u001b[1;33m(\u001b[0m\u001b[0mspatialMap\u001b[0m\u001b[1;33m[\u001b[0m\u001b[1;36m1\u001b[0m\u001b[1;33m]\u001b[0m\u001b[1;33m)\u001b[0m\u001b[1;33m\u001b[0m\u001b[1;33m\u001b[0m\u001b[0m\n\u001b[0m",
      "\u001b[1;31mNameError\u001b[0m: name 'spatialMap' is not defined"
     ]
    }
   ],
   "source": [
    "len(spatialMap[1])"
   ]
  },
  {
   "cell_type": "code",
   "execution_count": 5,
   "metadata": {},
   "outputs": [],
   "source": [
    "#cropping spatial map with a circle of radiusCut\n",
    "# radiusCut = 0.05*mm #cut radius\n",
    "def circleCut(radiusCut,spatialMap):\n",
    "    spatialMapCircle = []\n",
    "    spatialMapCircle_row = []\n",
    "    for j in range(len(spatialMap[1])):\n",
    "        spatialMapCircle_row = []\n",
    "        for i in range(len(spatialMap[0])):\n",
    "            if np.sqrt(spatialMap[i][j][0]**2 + spatialMap[i][j][1]**2) > radiusCut: \n",
    "                spatialMap[i][j] = 'x'\n",
    "            spatialMapCircle_row.append(spatialMap[i][j])\n",
    "        spatialMapCircle.append(spatialMapCircle_row)\n",
    "    return spatialMapCircle"
   ]
  },
  {
   "cell_type": "code",
   "execution_count": null,
   "metadata": {},
   "outputs": [],
   "source": [
    "spatialMap = circleCut(radiusCut,spatialMap)\n",
    "# spatialMap"
   ]
  },
  {
   "cell_type": "code",
   "execution_count": null,
   "metadata": {},
   "outputs": [],
   "source": [
    "#cropping spatial map with a slit of width dy\n",
    "# widthCut = 0.04*mm #slit width\n",
    "def slitCut(widthCut,spatialMap):\n",
    "    spatialMapSlit = []\n",
    "    spatialMapSlit_row = []\n",
    "    for j in range(len(spatialMap)):\n",
    "        spatialMapSlit_row = []\n",
    "        for i in range(len(spatialMap)):\n",
    "            if spatialMap[i][j] is not 'x': \n",
    "                if spatialMap[i][j][1] > widthCut/2 or spatialMap[i][j][1] < -widthCut/2 : \n",
    "                    spatialMap[i][j] = 'x'\n",
    "            spatialMapSlit_row.append(spatialMap[i][j])\n",
    "        spatialMapSlit.append(spatialMapSlit_row)\n",
    "    return spatialMapSlit"
   ]
  },
  {
   "cell_type": "code",
   "execution_count": null,
   "metadata": {},
   "outputs": [],
   "source": [
    "spatialMap = slitCut(widthCut,spatialMap)\n",
    "# spatialMap"
   ]
  },
  {
   "cell_type": "code",
   "execution_count": null,
   "metadata": {},
   "outputs": [],
   "source": [
    "#function to clean up cells\n",
    "def clearCell(cell):\n",
    "    cell.remove_polygons(lambda pts,layer,datatype:True)"
   ]
  },
  {
   "cell_type": "code",
   "execution_count": null,
   "metadata": {},
   "outputs": [],
   "source": [
    "#layer and datatype tags\n",
    "ld_Si = {\"layer\":1, \"datatype\":1}"
   ]
  },
  {
   "cell_type": "code",
   "execution_count": null,
   "metadata": {},
   "outputs": [],
   "source": [
    "#creating a gdspy library\n",
    "lib = gdspy.GdsLibrary()"
   ]
  },
  {
   "cell_type": "code",
   "execution_count": null,
   "metadata": {},
   "outputs": [],
   "source": [
    "#MAPPING PHASE TO META-ATOM RADIUS\n",
    "# phaseToRadiusMap = [[45+45*i,nm*(50+10*i)]for i in range(8)]\n",
    "# phase to radius relations are taken from numerical simulations, vis WFOV a-Si metalens @ 680nm, height 800nm\n",
    "phaseToRadius = [[0, 93*nm],[45, 87*nm], [90, 81.5*nm], [135,78*nm], [180,75*nm], [225, 59*nm], [270, 54.5*nm], [315, 46*nm]]\n",
    "metaatomRadius = [93*nm, 87*nm, 81.5*nm, 78*nm, 75*nm, 59*nm, 54.5*nm, 46*nm]\n",
    "phaseValue = [0, 45, 90, 135, 180, 225, 270, 315]"
   ]
  },
  {
   "cell_type": "code",
   "execution_count": null,
   "metadata": {},
   "outputs": [],
   "source": [
    "#GENERATING META-ATOM lIBRARY\n",
    "# disks = []\n",
    "# for i in range(len(metaatomRadius)):\n",
    "# disks.append(gdspy.Round((periodX*i, 0), metaatomRadius[i], number_of_points=12))  \n",
    "disk1 = gdspy.Round((0, 0), metaatomRadius[0], tolerance=0.001)\n",
    "disk2 = gdspy.Round((0, 0), metaatomRadius[1], tolerance=0.001)\n",
    "disk3 = gdspy.Round((0, 0), metaatomRadius[2], tolerance=0.001)\n",
    "disk4 = gdspy.Round((0, 0), metaatomRadius[3], tolerance=0.001)\n",
    "disk5 = gdspy.Round((0, 0), metaatomRadius[4], tolerance=0.001)\n",
    "disk6 = gdspy.Round((0, 0), metaatomRadius[5], tolerance=0.001)\n",
    "disk7 = gdspy.Round((0, 0), metaatomRadius[6], tolerance=0.001)\n",
    "disk8 = gdspy.Round((0, 0), metaatomRadius[7], tolerance=0.001)"
   ]
  },
  {
   "cell_type": "code",
   "execution_count": null,
   "metadata": {},
   "outputs": [],
   "source": [
    "MA1cell=lib.new_cell(\"metaatom-1\")\n",
    "MA1cell.add(disk1)\n",
    "\n",
    "MA2cell=lib.new_cell(\"metaatom-2\")\n",
    "MA2cell.add(disk2)\n",
    "\n",
    "MA3cell=lib.new_cell(\"metaatom-3\")\n",
    "MA3cell.add(disk3)\n",
    "\n",
    "MA4cell=lib.new_cell(\"metaatom-4\")\n",
    "MA4cell.add(disk4)\n",
    "\n",
    "MA5cell=lib.new_cell(\"metaatom-5\")\n",
    "MA5cell.add(disk5)\n",
    "\n",
    "MA6cell=lib.new_cell(\"metaatom-6\")\n",
    "MA6cell.add(disk6)\n",
    "\n",
    "MA7cell=lib.new_cell(\"metaatom-7\")\n",
    "MA7cell.add(disk7)\n",
    "\n",
    "MA8cell=lib.new_cell(\"metaatom-8\")\n",
    "MA8cell.add(disk8)\n",
    "\n",
    "MAcell = [MA1cell, MA2cell, MA3cell, MA4cell, MA5cell, MA6cell, MA7cell, MA8cell]"
   ]
  },
  {
   "cell_type": "code",
   "execution_count": null,
   "metadata": {},
   "outputs": [],
   "source": [
    "#converting phase map to radius map\n",
    "def phaseToCellMap(center, phase, phaseValue, MAcell):\n",
    "    for i in range(len(phaseValue)):\n",
    "        if phase<phaseValue[i]+phaseStep/2 and phase>=phaseValue[i]-phaseStep/2:\n",
    "            return gdspy.CellReference(MAcell[i], center)\n",
    "        elif phase>max(phaseValue)+phaseStep/2:\n",
    "            return gdspy.CellReference(MAcell[0], center)"
   ]
  },
  {
   "cell_type": "code",
   "execution_count": null,
   "metadata": {},
   "outputs": [],
   "source": [
    "#function to generate 2D map of circles (metasurface)\n",
    "def metalensGenerator(phaseMap, phaseToCellMap, spatialMap):\n",
    "    metasurface = []\n",
    "    for x in range(len(spatialMap)):\n",
    "        for y in range(len(spatialMap)):\n",
    "            if spatialMap[x][y] is not 'x':\n",
    "                metasurface.append(phaseToCellMap(spatialMap[x][y], phaseMap[x][y], phaseValue, MAcell))\n",
    "    return metasurface\n",
    "        "
   ]
  },
  {
   "cell_type": "code",
   "execution_count": null,
   "metadata": {
    "scrolled": false
   },
   "outputs": [],
   "source": [
    "metalens = metalensGenerator(phaseMap, phaseToCellMap, spatialMap)"
   ]
  },
  {
   "cell_type": "code",
   "execution_count": null,
   "metadata": {},
   "outputs": [],
   "source": [
    "Lens=gdspy.Cell(\"Lens-1\")\n",
    "Lens.add(metalens)"
   ]
  },
  {
   "cell_type": "code",
   "execution_count": null,
   "metadata": {},
   "outputs": [],
   "source": [
    "#writing gds file\n",
    "gdspy.current_library = gdspy.GdsLibrary()\n",
    "gdspy.current_library.add(Lens)\n",
    "# gdspy.current_library.add(top)\n",
    "# top.add(gdspy.CellReference(Lens))\n",
    "# top.add(gdspy.CellReference(Lens, (2*mm,2*mm)))\n",
    "gdspy.write_gds(outputFileName + '.gds')"
   ]
  },
  {
   "cell_type": "code",
   "execution_count": null,
   "metadata": {},
   "outputs": [],
   "source": []
  }
 ],
 "metadata": {
  "kernelspec": {
   "display_name": "Python 3",
   "language": "python",
   "name": "python3"
  },
  "language_info": {
   "codemirror_mode": {
    "name": "ipython",
    "version": 3
   },
   "file_extension": ".py",
   "mimetype": "text/x-python",
   "name": "python",
   "nbconvert_exporter": "python",
   "pygments_lexer": "ipython3",
   "version": "3.7.4"
  }
 },
 "nbformat": 4,
 "nbformat_minor": 2
}
