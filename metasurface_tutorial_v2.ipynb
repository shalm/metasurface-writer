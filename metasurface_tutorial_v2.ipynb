{
 "cells": [
  {
   "cell_type": "code",
   "execution_count": 1,
   "metadata": {},
   "outputs": [],
   "source": [
    "#import necessary libraries and frameworks\n",
    "import gdspy\n",
    "import pandas as pd\n",
    "import numpy as np\n",
    "import sys\n",
    "\n",
    "import matplotlib.pylab as plt\n",
    "import matplotlib.pyplot\n",
    "\n",
    "from mpl_toolkits.mplot3d import Axes3D  # noqa: F401 unused import\n",
    "from matplotlib import cm\n",
    "from matplotlib.ticker import LinearLocator, FormatStrFormatter\n",
    "from numpy import savetxt"
   ]
  },
  {
   "cell_type": "code",
   "execution_count": 2,
   "metadata": {},
   "outputs": [],
   "source": [
    "#input parameters\n",
    "baseUnit = 1 #layout scale(microns)\n",
    "m=baseUnit*1e6 \n",
    "nm = m*1E-9\n",
    "mm = m*1e-3\n",
    "scaling = 5; #scaling factor\n",
    "\n",
    "periodX = 320*scaling*nm #period along x-axis\n",
    "periodY = 320*scaling*nm #period along y-axis\n",
    "Xmax = 0.25*mm #half of the metasurface length\n",
    "Ymax = 0.25*mm #half of the metasurface width\n",
    "Nx = 2*Xmax/periodX #number of meta-atoms along x-axis\n",
    "Ny = 2*Ymax/periodY #number of meta-atoms along y-axis\n",
    "phaseStep = 45 #phase step in degrees"
   ]
  },
  {
   "cell_type": "code",
   "execution_count": 3,
   "metadata": {},
   "outputs": [],
   "source": [
    "#read phase map\n",
    "# phaseMap = pd.read_csv(\"a-state_ideal.txt\", header=None)\n",
    "# phaseMap = phaseMap.values.tolist()"
   ]
  },
  {
   "cell_type": "code",
   "execution_count": 4,
   "metadata": {},
   "outputs": [],
   "source": [
    "#generating analytical phase map\n",
    "f = 2.5*mm #focal distance\n",
    "lam = 680*nm #wavelength"
   ]
  },
  {
   "cell_type": "code",
   "execution_count": 5,
   "metadata": {},
   "outputs": [
    {
     "ename": "TypeError",
     "evalue": "object of type <class 'float'> cannot be safely interpreted as an integer.",
     "output_type": "error",
     "traceback": [
      "\u001b[0;31m---------------------------------------------------------------------------\u001b[0m",
      "\u001b[0;31mTypeError\u001b[0m                                 Traceback (most recent call last)",
      "\u001b[0;32m/opt/anaconda3/lib/python3.8/site-packages/numpy/core/function_base.py\u001b[0m in \u001b[0;36mlinspace\u001b[0;34m(start, stop, num, endpoint, retstep, dtype, axis)\u001b[0m\n\u001b[1;32m    116\u001b[0m     \u001b[0;32mtry\u001b[0m\u001b[0;34m:\u001b[0m\u001b[0;34m\u001b[0m\u001b[0;34m\u001b[0m\u001b[0m\n\u001b[0;32m--> 117\u001b[0;31m         \u001b[0mnum\u001b[0m \u001b[0;34m=\u001b[0m \u001b[0moperator\u001b[0m\u001b[0;34m.\u001b[0m\u001b[0mindex\u001b[0m\u001b[0;34m(\u001b[0m\u001b[0mnum\u001b[0m\u001b[0;34m)\u001b[0m\u001b[0;34m\u001b[0m\u001b[0;34m\u001b[0m\u001b[0m\n\u001b[0m\u001b[1;32m    118\u001b[0m     \u001b[0;32mexcept\u001b[0m \u001b[0mTypeError\u001b[0m\u001b[0;34m:\u001b[0m\u001b[0;34m\u001b[0m\u001b[0;34m\u001b[0m\u001b[0m\n",
      "\u001b[0;31mTypeError\u001b[0m: 'float' object cannot be interpreted as an integer",
      "\nDuring handling of the above exception, another exception occurred:\n",
      "\u001b[0;31mTypeError\u001b[0m                                 Traceback (most recent call last)",
      "\u001b[0;32m<ipython-input-5-fe5ea096e1c0>\u001b[0m in \u001b[0;36m<module>\u001b[0;34m\u001b[0m\n\u001b[1;32m      1\u001b[0m \u001b[0;31m#example of 1D ideal planar lens\u001b[0m\u001b[0;34m\u001b[0m\u001b[0;34m\u001b[0m\u001b[0;34m\u001b[0m\u001b[0m\n\u001b[0;32m----> 2\u001b[0;31m \u001b[0mx\u001b[0m \u001b[0;34m=\u001b[0m \u001b[0mnp\u001b[0m\u001b[0;34m.\u001b[0m\u001b[0mlinspace\u001b[0m\u001b[0;34m(\u001b[0m\u001b[0;34m-\u001b[0m\u001b[0mXmax\u001b[0m\u001b[0;34m,\u001b[0m\u001b[0mXmax\u001b[0m\u001b[0;34m,\u001b[0m\u001b[0mNx\u001b[0m\u001b[0;34m)\u001b[0m\u001b[0;34m\u001b[0m\u001b[0;34m\u001b[0m\u001b[0m\n\u001b[0m\u001b[1;32m      3\u001b[0m \u001b[0mphase_analyt0\u001b[0m \u001b[0;34m=\u001b[0m \u001b[0;36m2\u001b[0m\u001b[0;34m*\u001b[0m\u001b[0mnp\u001b[0m\u001b[0;34m.\u001b[0m\u001b[0mpi\u001b[0m\u001b[0;34m/\u001b[0m\u001b[0mlam\u001b[0m\u001b[0;34m*\u001b[0m\u001b[0;34m(\u001b[0m\u001b[0mnp\u001b[0m\u001b[0;34m.\u001b[0m\u001b[0msqrt\u001b[0m\u001b[0;34m(\u001b[0m\u001b[0mx\u001b[0m\u001b[0;34m**\u001b[0m\u001b[0;36m2\u001b[0m\u001b[0;34m+\u001b[0m\u001b[0mf\u001b[0m\u001b[0;34m**\u001b[0m\u001b[0;36m2\u001b[0m\u001b[0;34m)\u001b[0m\u001b[0;34m-\u001b[0m\u001b[0mf\u001b[0m\u001b[0;34m)\u001b[0m\u001b[0;34m\u001b[0m\u001b[0;34m\u001b[0m\u001b[0m\n\u001b[1;32m      4\u001b[0m \u001b[0mphase_analyt\u001b[0m \u001b[0;34m=\u001b[0m \u001b[0mnp\u001b[0m\u001b[0;34m.\u001b[0m\u001b[0mremainder\u001b[0m\u001b[0;34m(\u001b[0m\u001b[0mphase_analyt0\u001b[0m\u001b[0;34m,\u001b[0m\u001b[0;36m2\u001b[0m\u001b[0;34m*\u001b[0m\u001b[0mnp\u001b[0m\u001b[0;34m.\u001b[0m\u001b[0mpi\u001b[0m\u001b[0;34m)\u001b[0m\u001b[0;34m\u001b[0m\u001b[0;34m\u001b[0m\u001b[0m\n\u001b[1;32m      5\u001b[0m \u001b[0;34m\u001b[0m\u001b[0m\n",
      "\u001b[0;32m<__array_function__ internals>\u001b[0m in \u001b[0;36mlinspace\u001b[0;34m(*args, **kwargs)\u001b[0m\n",
      "\u001b[0;32m/opt/anaconda3/lib/python3.8/site-packages/numpy/core/function_base.py\u001b[0m in \u001b[0;36mlinspace\u001b[0;34m(start, stop, num, endpoint, retstep, dtype, axis)\u001b[0m\n\u001b[1;32m    117\u001b[0m         \u001b[0mnum\u001b[0m \u001b[0;34m=\u001b[0m \u001b[0moperator\u001b[0m\u001b[0;34m.\u001b[0m\u001b[0mindex\u001b[0m\u001b[0;34m(\u001b[0m\u001b[0mnum\u001b[0m\u001b[0;34m)\u001b[0m\u001b[0;34m\u001b[0m\u001b[0;34m\u001b[0m\u001b[0m\n\u001b[1;32m    118\u001b[0m     \u001b[0;32mexcept\u001b[0m \u001b[0mTypeError\u001b[0m\u001b[0;34m:\u001b[0m\u001b[0;34m\u001b[0m\u001b[0;34m\u001b[0m\u001b[0m\n\u001b[0;32m--> 119\u001b[0;31m         raise TypeError(\n\u001b[0m\u001b[1;32m    120\u001b[0m             \u001b[0;34m\"object of type {} cannot be safely interpreted as an integer.\"\u001b[0m\u001b[0;34m\u001b[0m\u001b[0;34m\u001b[0m\u001b[0m\n\u001b[1;32m    121\u001b[0m                 .format(type(num)))\n",
      "\u001b[0;31mTypeError\u001b[0m: object of type <class 'float'> cannot be safely interpreted as an integer."
     ]
    }
   ],
   "source": [
    "#example of 1D ideal planar lens\n",
    "x = np.linspace(-Xmax,Xmax,Nx)\n",
    "phase_analyt0 = 2*np.pi/lam*(np.sqrt(x**2+f**2)-f)\n",
    "phase_analyt = np.remainder(phase_analyt0,2*np.pi)\n",
    "\n",
    "#plotting the phase dependence\n",
    "plt.plot(x, phase_analyt)\n",
    "plt.xlabel('x, um')\n",
    "plt.ylabel('phase, rad')\n",
    "fig = matplotlib.pyplot.gcf()\n",
    "fig.set_size_inches(20, 4)"
   ]
  },
  {
   "cell_type": "code",
   "execution_count": null,
   "metadata": {},
   "outputs": [],
   "source": [
    "#generating 2D phase map for an ideal planar lens\n",
    "x = np.linspace(-Xmax,Xmax,Nx)\n",
    "y = np.linspace(-Ymax,Ymax,Ny)\n",
    "phase = []\n",
    "\n",
    "X,Y = np.meshgrid(x,y)\n",
    "phaseMap = np.rint(180/np.pi*np.remainder(2*np.pi/lam*(np.sqrt(X**2+Y**2+f**2)-f),2*np.pi)) #in degrees  "
   ]
  },
  {
   "cell_type": "code",
   "execution_count": null,
   "metadata": {},
   "outputs": [],
   "source": [
    "savetxt('metasurface_phaseMap.csv', phaseMap, delimiter=',')\n"
   ]
  },
  {
   "cell_type": "code",
   "execution_count": null,
   "metadata": {},
   "outputs": [],
   "source": [
    "#2D surface plot\n",
    "fig = plt.figure()\n",
    "plt.contourf(X,Y,phaseMap, cmap=cm.jet)\n",
    "fig = matplotlib.pyplot.gcf()\n",
    "fig.set_size_inches(10, 10)"
   ]
  },
  {
   "cell_type": "code",
   "execution_count": null,
   "metadata": {},
   "outputs": [],
   "source": [
    "#function to clean up cells\n",
    "def clearCell(cell):\n",
    "    cell.remove_polygons(lambda pts,layer,datatype:True)"
   ]
  },
  {
   "cell_type": "code",
   "execution_count": null,
   "metadata": {},
   "outputs": [],
   "source": [
    "#layer and datatype tags\n",
    "ld_Si = {\"layer\":1, \"datatype\":1}"
   ]
  },
  {
   "cell_type": "code",
   "execution_count": null,
   "metadata": {},
   "outputs": [],
   "source": [
    "#creating a gdspy library\n",
    "lib = gdspy.GdsLibrary()"
   ]
  },
  {
   "cell_type": "code",
   "execution_count": null,
   "metadata": {},
   "outputs": [],
   "source": [
    "#MAPPING PHASE TO META-ATOM RADIUS\n",
    "# phaseToRadiusMap = [[45+45*i,nm*(50+10*i)]for i in range(8)]\n",
    "# phase to radius relations are taken from numerical simulations, vis WFOV a-Si metalens @ 680nm, height 800nm\n",
    "phaseToRadius = [[0, 93*scaling*nm],[45, 87*scaling*nm], [90, 81.5*scaling*nm], [135,78*scaling*nm], [180,75*scaling*nm], [225, 59*scaling*nm], [270, 54.5*scaling*nm], [315, 46*scaling*nm]]\n",
    "metaatomRadius = [93*scaling*nm, 87*scaling*nm, 81.5*scaling*nm, 78*scaling*nm, 75*scaling*nm, 59*scaling*nm, 54.5*scaling*nm, 46*scaling*nm]\n",
    "phaseValue = [0, 45, 90, 135, 180, 225, 270, 315]"
   ]
  },
  {
   "cell_type": "code",
   "execution_count": null,
   "metadata": {},
   "outputs": [],
   "source": [
    "#GENERATING META-ATOM lIBRARY\n",
    "# disks = []\n",
    "# for i in range(len(metaatomRadius)):\n",
    "# disks.append(gdspy.Round((periodX*i, 0), metaatomRadius[i], number_of_points=12))  \n",
    "disk1 = gdspy.Round((0, 0), metaatomRadius[0], tolerance=0.001)\n",
    "disk2 = gdspy.Round((0, 0), metaatomRadius[1], tolerance=0.001)\n",
    "disk3 = gdspy.Round((0, 0), metaatomRadius[2], tolerance=0.001)\n",
    "disk4 = gdspy.Round((0, 0), metaatomRadius[3], tolerance=0.001)\n",
    "disk5 = gdspy.Round((0, 0), metaatomRadius[4], tolerance=0.001)\n",
    "disk6 = gdspy.Round((0, 0), metaatomRadius[5], tolerance=0.001)\n",
    "disk7 = gdspy.Round((0, 0), metaatomRadius[6], tolerance=0.001)\n",
    "disk8 = gdspy.Round((0, 0), metaatomRadius[7], tolerance=0.001)"
   ]
  },
  {
   "cell_type": "code",
   "execution_count": null,
   "metadata": {},
   "outputs": [],
   "source": [
    "MA1cell=lib.new_cell(\"metaatom-1\")\n",
    "MA1cell.add(disk1)\n",
    "\n",
    "MA2cell=lib.new_cell(\"metaatom-2\")\n",
    "MA2cell.add(disk2)\n",
    "\n",
    "MA3cell=lib.new_cell(\"metaatom-3\")\n",
    "MA3cell.add(disk3)\n",
    "\n",
    "MA4cell=lib.new_cell(\"metaatom-4\")\n",
    "MA4cell.add(disk4)\n",
    "\n",
    "MA5cell=lib.new_cell(\"metaatom-5\")\n",
    "MA5cell.add(disk5)\n",
    "\n",
    "MA6cell=lib.new_cell(\"metaatom-6\")\n",
    "MA6cell.add(disk6)\n",
    "\n",
    "MA7cell=lib.new_cell(\"metaatom-7\")\n",
    "MA7cell.add(disk7)\n",
    "\n",
    "MA8cell=lib.new_cell(\"metaatom-8\")\n",
    "MA8cell.add(disk8)\n",
    "\n",
    "MAcell = [MA1cell, MA2cell, MA3cell, MA4cell, MA5cell, MA6cell, MA7cell, MA8cell]\n",
    "\n",
    "# lib.add([MA1cell, MA2cell, MA3cell,MA4cell,MA5cell,MA6cell,MA7cell,MA8cell])\n",
    "# lib.write_gds('Metasurface1.gds')\n",
    "# gdspy.LayoutViewer()"
   ]
  },
  {
   "cell_type": "code",
   "execution_count": null,
   "metadata": {},
   "outputs": [],
   "source": [
    "#CONVERTING PHASE MAP to RADIUS MAP\n",
    "def phaseToCellMap(center, phase, phaseValue, MAcell):\n",
    "    for i in range(len(phaseValue)):\n",
    "        if phase<phaseValue[i]+phaseStep/2 and phase>=phaseValue[i]-phaseStep/2:\n",
    "            return gdspy.CellReference(MAcell[i], center)\n",
    "        elif phase>max(phaseValue)+phaseStep/2:\n",
    "            return gdspy.CellReference(MAcell[0], center)"
   ]
  },
  {
   "cell_type": "code",
   "execution_count": null,
   "metadata": {},
   "outputs": [],
   "source": [
    "#GENERATING SPATIAL X,Y GRID\n",
    "def spatialMapGenerator(periodX, periodY, phaseMap):\n",
    "    spatialMap = [[[periodX*x, periodY*y] for x in range(len(phaseMap))] for y in range(len(phaseMap[0]))]\n",
    "    return spatialMap"
   ]
  },
  {
   "cell_type": "code",
   "execution_count": null,
   "metadata": {},
   "outputs": [],
   "source": [
    "#PUTTING IDEAL PHASE MAP ON A GRID (discretization)\n",
    "spatialMap = spatialMapGenerator(periodX, periodY, phaseMap)\n",
    "spatialMap"
   ]
  },
  {
   "cell_type": "code",
   "execution_count": null,
   "metadata": {},
   "outputs": [],
   "source": [
    "#CREATING THE LIBRARY of META-ATOMS\n",
    "#function to generate a circle of radius 'r' at position 'center'\n",
    "# def phaseDiskPoly(phase, phaseToRadiusMap, center):\n",
    "#     r = phaseToDiskRadius(phase, phaseToRadiusMap)\n",
    "#     disk = gdspy.Round(center,r) #!change round; return the cell reference, #documention on self reference\n",
    "#     return disk"
   ]
  },
  {
   "cell_type": "code",
   "execution_count": null,
   "metadata": {},
   "outputs": [],
   "source": [
    "#function to generate 2D map of circles (metasurface)\n",
    "def metalensGenerator(phaseMap, phaseToCellMap, spatialMap):\n",
    "    metasurface = []\n",
    "    for x in range(len(phaseMap)):\n",
    "        for y in range(len(phaseMap[0])):\n",
    "            metasurface.append(phaseToCellMap(spatialMap[x][y], phaseMap[x][y], phaseValue, MAcell))\n",
    "    return metasurface\n",
    "        "
   ]
  },
  {
   "cell_type": "code",
   "execution_count": null,
   "metadata": {},
   "outputs": [],
   "source": [
    "metalens = metalensGenerator(phaseMap, phaseToCellMap, spatialMap)"
   ]
  },
  {
   "cell_type": "code",
   "execution_count": null,
   "metadata": {},
   "outputs": [],
   "source": [
    "metalens"
   ]
  },
  {
   "cell_type": "code",
   "execution_count": null,
   "metadata": {},
   "outputs": [],
   "source": [
    "Lens=gdspy.Cell(\"Lens-1\")\n",
    "Lens.add(metalens)"
   ]
  },
  {
   "cell_type": "code",
   "execution_count": null,
   "metadata": {},
   "outputs": [],
   "source": [
    "#writing gds file\n",
    "gdspy.current_library = gdspy.GdsLibrary()\n",
    "gdspy.current_library.add(Lens)\n",
    "# gdspy.current_library.add(top)\n",
    "# top.add(gdspy.CellReference(Lens))\n",
    "# top.add(gdspy.CellReference(Lens, (2*mm,2*mm)))\n",
    "gdspy.write_gds('20200728_metasurface0p5mm_scaled5.gds')"
   ]
  },
  {
   "cell_type": "code",
   "execution_count": null,
   "metadata": {},
   "outputs": [],
   "source": []
  }
 ],
 "metadata": {
  "kernelspec": {
   "display_name": "Python 3",
   "language": "python",
   "name": "python3"
  },
  "language_info": {
   "codemirror_mode": {
    "name": "ipython",
    "version": 3
   },
   "file_extension": ".py",
   "mimetype": "text/x-python",
   "name": "python",
   "nbconvert_exporter": "python",
   "pygments_lexer": "ipython3",
   "version": "3.8.3"
  }
 },
 "nbformat": 4,
 "nbformat_minor": 2
}
