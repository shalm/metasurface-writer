{
 "cells": [
  {
   "cell_type": "code",
   "execution_count": 1,
   "metadata": {},
   "outputs": [],
   "source": [
    "import gdspy\n",
    "import pandas as pd\n",
    "import numpy as np\n",
    "import sys\n",
    "import math\n",
    "import pattern_writer as pw"
   ]
  },
  {
   "cell_type": "code",
   "execution_count": 2,
   "metadata": {},
   "outputs": [],
   "source": [
    "baseUnit = 1 #layout scale(microns)\n",
    "m=baseUnit*1e6 \n",
    "nm = m*1E-9"
   ]
  },
  {
   "cell_type": "code",
   "execution_count": 3,
   "metadata": {},
   "outputs": [
    {
     "data": {
      "text/plain": [
       "'def layout_placement(basisX, basisY, numberX, numberY, generator_function, placement_function):\\n    Xs=[]\\n    Ys=[]\\n    lastX=0\\n    lastY=0\\n    while len(Xs)< numberX:\\n        Xs.append(lastX)\\n        lastX+=basisX\\n    while len(Ys)< numberY:\\n        Ys.append(lastY)\\n        lastY+=basisY'"
      ]
     },
     "execution_count": 3,
     "metadata": {},
     "output_type": "execute_result"
    }
   ],
   "source": [
    "'''def layout_placement(basisX, basisY, numberX, numberY, generator_function, placement_function):\n",
    "    Xs=[]\n",
    "    Ys=[]\n",
    "    lastX=0\n",
    "    lastY=0\n",
    "    while len(Xs)< numberX:\n",
    "        Xs.append(lastX)\n",
    "        lastX+=basisX\n",
    "    while len(Ys)< numberY:\n",
    "        Ys.append(lastY)\n",
    "        lastY+=basisY'''"
   ]
  },
  {
   "cell_type": "code",
   "execution_count": 4,
   "metadata": {},
   "outputs": [],
   "source": [
    "def layout_placement(basisX, basisY, numberX, numberY, generator_function, placement_function):\n",
    "    array=[]\n",
    "    lastX=0\n",
    "    for nX in range(numberX):\n",
    "        lastY=0\n",
    "        for nY in range(numberY):\n",
    "            geometry_cell= generator_function(placement_function(lastX, lastY))\n",
    "            array.append(gdspy.CellReference(geometry_cell, (lastX, lastY), magnification=1))\n",
    "            #pw.array_singleReference(lastX, lastY, geometry_cell)\n",
    "            lastY+=basisY\n",
    "        lastX+=basisX\n",
    "    return array"
   ]
  },
  {
   "cell_type": "code",
   "execution_count": 5,
   "metadata": {},
   "outputs": [],
   "source": [
    "#geometry1 = gdspy.Cell(\"CIRCLE\")\n",
    "#geometry1.add(gdspy.Round((0, 0), 93*nm, tolerance=0.001))\n",
    "#geometry2 = gdspy.Cell(\"OVAL\")\n",
    "#geometry2.add(gdspy.Round((0, 0), [93*nm, 80*nm], tolerance=1e-4))\n",
    "#def p_f(x,y):\n",
    " #   return np.sqrt(x**2 + y**2)\n",
    "#def g_f(distance):\n",
    " #   if distance < 200*nm:\n",
    "        #geometry1 = gdspy.Cell(\"CIRCLE\")\n",
    "        #geometry1.add(gdspy.Round((0, 0), 93*nm, tolerance=0.001))\n",
    "  #      return geometry1\n",
    "   # else:\n",
    "        #geometry2 = gdspy.Cell(\"OVAL\")\n",
    "        #geometry2.add(gdspy.Round((0, 0), [93*nm, 80*nm], tolerance=1e-4))\n",
    "    #    return geometry2\n",
    "#y = layout_placement(300*nm,100*nm,2,3,g_f, p_f)"
   ]
  },
  {
   "cell_type": "code",
   "execution_count": 6,
   "metadata": {},
   "outputs": [],
   "source": [
    "#y"
   ]
  },
  {
   "cell_type": "code",
   "execution_count": 7,
   "metadata": {},
   "outputs": [],
   "source": [
    "def layout_placement2(basisX, basisY, numberX, numberY, generator_function, placement_function):\n",
    "    array=[]\n",
    "    array_X=[]\n",
    "    array_Y=[]\n",
    "    lastX=0\n",
    "    for nX in range(numberX):\n",
    "        array_X.append(lastX)\n",
    "        lastY=0\n",
    "        for nY in range(numberY):\n",
    "            if len(array_Y)<numberY:\n",
    "                array_Y.append(lastY)\n",
    "            geometry_cell= generator_function(placement_function(lastX, lastY))\n",
    "            array.append(gdspy.CellReference(geometry_cell, (lastX, lastY), magnification=1))\n",
    "            #pw.array_singleReference(lastX, lastY, geometry_cell)\n",
    "            lastY+=(2*basisY)\n",
    "        lastX+=(2*basisX)\n",
    "    array2_X= np.add(array_X, basisX).tolist()\n",
    "    array2_Y= np.add(array_Y, basisY).tolist()\n",
    "    #print(array2_Y)\n",
    "    for n2X in array2_X:\n",
    "        for n2Y in array2_Y:\n",
    "            geometry_cell= generator_function(placement_function(n2X, n2Y))\n",
    "            array.append(gdspy.CellReference(geometry_cell, (n2X, n2Y), magnification=1))\n",
    "    return array"
   ]
  },
  {
   "cell_type": "code",
   "execution_count": 8,
   "metadata": {},
   "outputs": [],
   "source": [
    "geometry1 = gdspy.Cell(\"CIRCLE\")\n",
    "geometry1.add(gdspy.Round((0, 0), 93*nm, tolerance=0.001))\n",
    "geometry2 = gdspy.Cell(\"OVAL\")\n",
    "geometry2.add(gdspy.Round((0, 0), [93*nm, 80*nm], tolerance=1e-4))\n",
    "def p_f(x,y):\n",
    "    return np.sqrt(x**2 + y**2)\n",
    "def g_f(distance):\n",
    "    if distance < 500*nm:\n",
    "        #geometry1 = gdspy.Cell(\"CIRCLE\")\n",
    "        #geometry1.add(gdspy.Round((0, 0), 93*nm, tolerance=0.001))\n",
    "        return geometry1\n",
    "    else:\n",
    "        #geometry2 = gdspy.Cell(\"OVAL\")\n",
    "        #geometry2.add(gdspy.Round((0, 0), [93*nm, 80*nm], tolerance=1e-4))\n",
    "        return geometry2\n",
    "y = layout_placement2(300*nm,100*nm,5,8,g_f, p_f)"
   ]
  },
  {
   "cell_type": "code",
   "execution_count": 9,
   "metadata": {},
   "outputs": [
    {
     "data": {
      "text/plain": [
       "[CellReference(\"CIRCLE\", (0, 0), None, 1, False),\n",
       " CellReference(\"CIRCLE\", (0, 0.2), None, 1, False),\n",
       " CellReference(\"CIRCLE\", (0, 0.4), None, 1, False),\n",
       " CellReference(\"OVAL\", (0, 0.6000000000000001), None, 1, False),\n",
       " CellReference(\"OVAL\", (0, 0.8), None, 1, False),\n",
       " CellReference(\"OVAL\", (0, 1.0), None, 1, False),\n",
       " CellReference(\"OVAL\", (0, 1.2), None, 1, False),\n",
       " CellReference(\"OVAL\", (0, 1.4), None, 1, False),\n",
       " CellReference(\"OVAL\", (0.6, 0), None, 1, False),\n",
       " CellReference(\"OVAL\", (0.6, 0.2), None, 1, False),\n",
       " CellReference(\"OVAL\", (0.6, 0.4), None, 1, False),\n",
       " CellReference(\"OVAL\", (0.6, 0.6000000000000001), None, 1, False),\n",
       " CellReference(\"OVAL\", (0.6, 0.8), None, 1, False),\n",
       " CellReference(\"OVAL\", (0.6, 1.0), None, 1, False),\n",
       " CellReference(\"OVAL\", (0.6, 1.2), None, 1, False),\n",
       " CellReference(\"OVAL\", (0.6, 1.4), None, 1, False),\n",
       " CellReference(\"OVAL\", (1.2, 0), None, 1, False),\n",
       " CellReference(\"OVAL\", (1.2, 0.2), None, 1, False),\n",
       " CellReference(\"OVAL\", (1.2, 0.4), None, 1, False),\n",
       " CellReference(\"OVAL\", (1.2, 0.6000000000000001), None, 1, False),\n",
       " CellReference(\"OVAL\", (1.2, 0.8), None, 1, False),\n",
       " CellReference(\"OVAL\", (1.2, 1.0), None, 1, False),\n",
       " CellReference(\"OVAL\", (1.2, 1.2), None, 1, False),\n",
       " CellReference(\"OVAL\", (1.2, 1.4), None, 1, False),\n",
       " CellReference(\"OVAL\", (1.7999999999999998, 0), None, 1, False),\n",
       " CellReference(\"OVAL\", (1.7999999999999998, 0.2), None, 1, False),\n",
       " CellReference(\"OVAL\", (1.7999999999999998, 0.4), None, 1, False),\n",
       " CellReference(\"OVAL\", (1.7999999999999998, 0.6000000000000001), None, 1, False),\n",
       " CellReference(\"OVAL\", (1.7999999999999998, 0.8), None, 1, False),\n",
       " CellReference(\"OVAL\", (1.7999999999999998, 1.0), None, 1, False),\n",
       " CellReference(\"OVAL\", (1.7999999999999998, 1.2), None, 1, False),\n",
       " CellReference(\"OVAL\", (1.7999999999999998, 1.4), None, 1, False),\n",
       " CellReference(\"OVAL\", (2.4, 0), None, 1, False),\n",
       " CellReference(\"OVAL\", (2.4, 0.2), None, 1, False),\n",
       " CellReference(\"OVAL\", (2.4, 0.4), None, 1, False),\n",
       " CellReference(\"OVAL\", (2.4, 0.6000000000000001), None, 1, False),\n",
       " CellReference(\"OVAL\", (2.4, 0.8), None, 1, False),\n",
       " CellReference(\"OVAL\", (2.4, 1.0), None, 1, False),\n",
       " CellReference(\"OVAL\", (2.4, 1.2), None, 1, False),\n",
       " CellReference(\"OVAL\", (2.4, 1.4), None, 1, False),\n",
       " CellReference(\"CIRCLE\", (0.3, 0.1), None, 1, False),\n",
       " CellReference(\"CIRCLE\", (0.3, 0.30000000000000004), None, 1, False),\n",
       " CellReference(\"OVAL\", (0.3, 0.5), None, 1, False),\n",
       " CellReference(\"OVAL\", (0.3, 0.7000000000000001), None, 1, False),\n",
       " CellReference(\"OVAL\", (0.3, 0.9), None, 1, False),\n",
       " CellReference(\"OVAL\", (0.3, 1.1), None, 1, False),\n",
       " CellReference(\"OVAL\", (0.3, 1.3), None, 1, False),\n",
       " CellReference(\"OVAL\", (0.3, 1.5), None, 1, False),\n",
       " CellReference(\"OVAL\", (0.8999999999999999, 0.1), None, 1, False),\n",
       " CellReference(\"OVAL\", (0.8999999999999999, 0.30000000000000004), None, 1, False),\n",
       " CellReference(\"OVAL\", (0.8999999999999999, 0.5), None, 1, False),\n",
       " CellReference(\"OVAL\", (0.8999999999999999, 0.7000000000000001), None, 1, False),\n",
       " CellReference(\"OVAL\", (0.8999999999999999, 0.9), None, 1, False),\n",
       " CellReference(\"OVAL\", (0.8999999999999999, 1.1), None, 1, False),\n",
       " CellReference(\"OVAL\", (0.8999999999999999, 1.3), None, 1, False),\n",
       " CellReference(\"OVAL\", (0.8999999999999999, 1.5), None, 1, False),\n",
       " CellReference(\"OVAL\", (1.5, 0.1), None, 1, False),\n",
       " CellReference(\"OVAL\", (1.5, 0.30000000000000004), None, 1, False),\n",
       " CellReference(\"OVAL\", (1.5, 0.5), None, 1, False),\n",
       " CellReference(\"OVAL\", (1.5, 0.7000000000000001), None, 1, False),\n",
       " CellReference(\"OVAL\", (1.5, 0.9), None, 1, False),\n",
       " CellReference(\"OVAL\", (1.5, 1.1), None, 1, False),\n",
       " CellReference(\"OVAL\", (1.5, 1.3), None, 1, False),\n",
       " CellReference(\"OVAL\", (1.5, 1.5), None, 1, False),\n",
       " CellReference(\"OVAL\", (2.0999999999999996, 0.1), None, 1, False),\n",
       " CellReference(\"OVAL\", (2.0999999999999996, 0.30000000000000004), None, 1, False),\n",
       " CellReference(\"OVAL\", (2.0999999999999996, 0.5), None, 1, False),\n",
       " CellReference(\"OVAL\", (2.0999999999999996, 0.7000000000000001), None, 1, False),\n",
       " CellReference(\"OVAL\", (2.0999999999999996, 0.9), None, 1, False),\n",
       " CellReference(\"OVAL\", (2.0999999999999996, 1.1), None, 1, False),\n",
       " CellReference(\"OVAL\", (2.0999999999999996, 1.3), None, 1, False),\n",
       " CellReference(\"OVAL\", (2.0999999999999996, 1.5), None, 1, False),\n",
       " CellReference(\"OVAL\", (2.6999999999999997, 0.1), None, 1, False),\n",
       " CellReference(\"OVAL\", (2.6999999999999997, 0.30000000000000004), None, 1, False),\n",
       " CellReference(\"OVAL\", (2.6999999999999997, 0.5), None, 1, False),\n",
       " CellReference(\"OVAL\", (2.6999999999999997, 0.7000000000000001), None, 1, False),\n",
       " CellReference(\"OVAL\", (2.6999999999999997, 0.9), None, 1, False),\n",
       " CellReference(\"OVAL\", (2.6999999999999997, 1.1), None, 1, False),\n",
       " CellReference(\"OVAL\", (2.6999999999999997, 1.3), None, 1, False),\n",
       " CellReference(\"OVAL\", (2.6999999999999997, 1.5), None, 1, False)]"
      ]
     },
     "execution_count": 9,
     "metadata": {},
     "output_type": "execute_result"
    }
   ],
   "source": [
    "y"
   ]
  },
  {
   "cell_type": "code",
   "execution_count": 10,
   "metadata": {},
   "outputs": [],
   "source": [
    "gdspy.current_library = gdspy.GdsLibrary()\n",
    "Lens = gdspy.Cell(\"LENS\")\n",
    "Lens.add(y)\n",
    "gdspy.current_library.add(Lens)\n",
    "gdspy.write_gds('Testing12.gds')"
   ]
  }
 ],
 "metadata": {
  "kernelspec": {
   "display_name": "Python 3",
   "language": "python",
   "name": "python3"
  },
  "language_info": {
   "codemirror_mode": {
    "name": "ipython",
    "version": 3
   },
   "file_extension": ".py",
   "mimetype": "text/x-python",
   "name": "python",
   "nbconvert_exporter": "python",
   "pygments_lexer": "ipython3",
   "version": "3.8.3"
  }
 },
 "nbformat": 4,
 "nbformat_minor": 4
}
