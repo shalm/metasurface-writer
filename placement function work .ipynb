{
 "cells": [
  {
   "cell_type": "code",
   "execution_count": 1,
   "metadata": {},
   "outputs": [],
   "source": [
    "import gdspy\n",
    "import pandas as pd\n",
    "import numpy as np\n",
    "import sys\n",
    "import math\n",
    "import pattern_writer as pw"
   ]
  },
  {
   "cell_type": "code",
   "execution_count": 2,
   "metadata": {},
   "outputs": [],
   "source": [
    "baseUnit = 1 #layout scale(microns)\n",
    "m=baseUnit*1e6 \n",
    "nm = m*1E-9"
   ]
  },
  {
   "cell_type": "code",
   "execution_count": 3,
   "metadata": {},
   "outputs": [
    {
     "data": {
      "text/plain": [
       "'def layout_placement(basisX, basisY, numberX, numberY, generator_function, placement_function):\\n    Xs=[]\\n    Ys=[]\\n    lastX=0\\n    lastY=0\\n    while len(Xs)< numberX:\\n        Xs.append(lastX)\\n        lastX+=basisX\\n    while len(Ys)< numberY:\\n        Ys.append(lastY)\\n        lastY+=basisY'"
      ]
     },
     "execution_count": 3,
     "metadata": {},
     "output_type": "execute_result"
    }
   ],
   "source": [
    "'''def layout_placement(basisX, basisY, numberX, numberY, generator_function, placement_function):\n",
    "    Xs=[]\n",
    "    Ys=[]\n",
    "    lastX=0\n",
    "    lastY=0\n",
    "    while len(Xs)< numberX:\n",
    "        Xs.append(lastX)\n",
    "        lastX+=basisX\n",
    "    while len(Ys)< numberY:\n",
    "        Ys.append(lastY)\n",
    "        lastY+=basisY'''"
   ]
  },
  {
   "cell_type": "code",
   "execution_count": 4,
   "metadata": {},
   "outputs": [],
   "source": [
    "def layout_placement(basisX, basisY, numberX, numberY, generator_function, placement_function):\n",
    "    array=[]\n",
    "    lastX=0\n",
    "    for nX in range(numberX):\n",
    "        lastY=0\n",
    "        for nY in range(numberY):\n",
    "            geometry_cell= generator_function(placement_function(lastX, lastY))\n",
    "            array.append(gdspy.CellReference(geometry_cell, (lastX, lastY), magnification=1))\n",
    "            #pw.array_singleReference(lastX, lastY, geometry_cell)\n",
    "            lastY+=basisY\n",
    "        lastX+=basisX\n",
    "    return array"
   ]
  },
  {
   "cell_type": "code",
   "execution_count": 5,
   "metadata": {},
   "outputs": [],
   "source": [
    "geometry1 = gdspy.Cell(\"CIRCLE\")\n",
    "geometry1.add(gdspy.Round((0, 0), 93*nm, tolerance=0.001))\n",
    "geometry2 = gdspy.Cell(\"OVAL\")\n",
    "geometry2.add(gdspy.Round((0, 0), [93*nm, 80*nm], tolerance=1e-4))\n",
    "def p_f(x,y):\n",
    "    return math.sqrt(x^2 + y^2)\n",
    "def g_f(distance):\n",
    "    if distance < 2:\n",
    "        #geometry1 = gdspy.Cell(\"CIRCLE\")\n",
    "        #geometry1.add(gdspy.Round((0, 0), 93*nm, tolerance=0.001))\n",
    "        return geometry1\n",
    "    else:\n",
    "        #geometry2 = gdspy.Cell(\"OVAL\")\n",
    "        #geometry2.add(gdspy.Round((0, 0), [93*nm, 80*nm], tolerance=1e-4))\n",
    "        return geometry2\n",
    "y = layout_placement(3,1,2,3,g_f, p_f)"
   ]
  },
  {
   "cell_type": "code",
   "execution_count": 6,
   "metadata": {},
   "outputs": [
    {
     "data": {
      "text/plain": [
       "[CellReference(\"CIRCLE\", (0, 0), None, 1, False),\n",
       " CellReference(\"CIRCLE\", (0, 1), None, 1, False),\n",
       " CellReference(\"OVAL\", (0, 2), None, 1, False),\n",
       " CellReference(\"CIRCLE\", (3, 0), None, 1, False),\n",
       " CellReference(\"CIRCLE\", (3, 1), None, 1, False),\n",
       " CellReference(\"OVAL\", (3, 2), None, 1, False)]"
      ]
     },
     "execution_count": 6,
     "metadata": {},
     "output_type": "execute_result"
    }
   ],
   "source": [
    "y"
   ]
  }
 ],
 "metadata": {
  "kernelspec": {
   "display_name": "Python 3",
   "language": "python",
   "name": "python3"
  },
  "language_info": {
   "codemirror_mode": {
    "name": "ipython",
    "version": 3
   },
   "file_extension": ".py",
   "mimetype": "text/x-python",
   "name": "python",
   "nbconvert_exporter": "python",
   "pygments_lexer": "ipython3",
   "version": "3.8.3"
  }
 },
 "nbformat": 4,
 "nbformat_minor": 4
}
