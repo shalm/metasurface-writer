{
 "cells": [
  {
   "cell_type": "code",
   "execution_count": 1,
   "metadata": {},
   "outputs": [],
   "source": [
    "import gdspy\n",
    "import pandas as pd\n",
    "import numpy as np\n",
    "import sys\n",
    "import math\n",
    "import pattern_writer as pw"
   ]
  },
  {
   "cell_type": "code",
   "execution_count": 2,
   "metadata": {},
   "outputs": [],
   "source": [
    "baseUnit = 1 #layout scale(microns)\n",
    "m=baseUnit*1e6 \n",
    "nm = m*1E-9"
   ]
  },
  {
   "cell_type": "code",
   "execution_count": 3,
   "metadata": {},
   "outputs": [
    {
     "data": {
      "text/plain": [
       "'def layout_placement(basisX, basisY, numberX, numberY, generator_function, placement_function):\\n    Xs=[]\\n    Ys=[]\\n    lastX=0\\n    lastY=0\\n    while len(Xs)< numberX:\\n        Xs.append(lastX)\\n        lastX+=basisX\\n    while len(Ys)< numberY:\\n        Ys.append(lastY)\\n        lastY+=basisY'"
      ]
     },
     "execution_count": 3,
     "metadata": {},
     "output_type": "execute_result"
    }
   ],
   "source": [
    "'''def layout_placement(basisX, basisY, numberX, numberY, generator_function, placement_function):\n",
    "    Xs=[]\n",
    "    Ys=[]\n",
    "    lastX=0\n",
    "    lastY=0\n",
    "    while len(Xs)< numberX:\n",
    "        Xs.append(lastX)\n",
    "        lastX+=basisX\n",
    "    while len(Ys)< numberY:\n",
    "        Ys.append(lastY)\n",
    "        lastY+=basisY'''"
   ]
  },
  {
   "cell_type": "code",
   "execution_count": 4,
   "metadata": {},
   "outputs": [],
   "source": [
    "def layout_placement(basisX, basisY, numberX, numberY, generator_function, placement_function):\n",
    "    array=[]\n",
    "    lastX=0\n",
    "    for nX in range(numberX):\n",
    "        lastY=0\n",
    "        for nY in range(numberY):\n",
    "            geometry_cell= generator_function(placement_function(lastX, lastY))\n",
    "            array.append(gdspy.CellReference(geometry_cell, (lastX, lastY), magnification=1))\n",
    "            #pw.array_singleReference(lastX, lastY, geometry_cell)\n",
    "            lastY+=basisY\n",
    "        lastX+=basisX\n",
    "    return array"
   ]
  },
  {
   "cell_type": "code",
   "execution_count": 5,
   "metadata": {},
   "outputs": [],
   "source": [
    "#geometry1 = gdspy.Cell(\"CIRCLE\")\n",
    "#geometry1.add(gdspy.Round((0, 0), 93*nm, tolerance=0.001))\n",
    "#geometry2 = gdspy.Cell(\"OVAL\")\n",
    "#geometry2.add(gdspy.Round((0, 0), [93*nm, 80*nm], tolerance=1e-4))\n",
    "#def p_f(x,y):\n",
    " #   return np.sqrt(x**2 + y**2)\n",
    "#def g_f(distance):\n",
    " #   if distance < 200*nm:\n",
    "        #geometry1 = gdspy.Cell(\"CIRCLE\")\n",
    "        #geometry1.add(gdspy.Round((0, 0), 93*nm, tolerance=0.001))\n",
    "  #      return geometry1\n",
    "   # else:\n",
    "        #geometry2 = gdspy.Cell(\"OVAL\")\n",
    "        #geometry2.add(gdspy.Round((0, 0), [93*nm, 80*nm], tolerance=1e-4))\n",
    "    #    return geometry2\n",
    "#y = layout_placement(300*nm,100*nm,2,3,g_f, p_f)"
   ]
  },
  {
   "cell_type": "code",
   "execution_count": 6,
   "metadata": {},
   "outputs": [],
   "source": [
    "#y"
   ]
  },
  {
   "cell_type": "code",
   "execution_count": 7,
   "metadata": {},
   "outputs": [],
   "source": [
    "def layout_placement2(basisX, basisY, numberX, numberY, generator_function, placement_function):\n",
    "    array=[]\n",
    "    array_X=[]\n",
    "    array_Y=[]\n",
    "    lastX=0\n",
    "    for nX in range(numberX):\n",
    "        array_X.append(lastX)\n",
    "        lastY=0\n",
    "        for nY in range(numberY):\n",
    "            if len(array_Y)<numberY:\n",
    "                array_Y.append(lastY)\n",
    "            geometry_cell= generator_function(placement_function(lastX, lastY))\n",
    "            array.append(gdspy.CellReference(geometry_cell, (lastX, lastY), magnification=1))\n",
    "            #pw.array_singleReference(lastX, lastY, geometry_cell)\n",
    "            lastY+=(basisX[1])\n",
    "        lastX+=(basisX[0])\n",
    "    array2_X= np.add(array_X, basisY[0]).tolist()\n",
    "    array2_Y= np.add(array_Y, basisY[1]).tolist()\n",
    "    #print(array2_Y)\n",
    "    for n2X in array2_X:\n",
    "        for n2Y in array2_Y:\n",
    "            geometry_cell= generator_function(placement_function(n2X, n2Y))\n",
    "            array.append(gdspy.CellReference(geometry_cell, (n2X, n2Y), magnification=1))\n",
    "    return array"
   ]
  },
  {
   "cell_type": "code",
   "execution_count": 8,
   "metadata": {},
   "outputs": [],
   "source": [
    "def layout_placement3(basis1, basis2, numberX, numberY, generator_function, placement_function):\n",
    "    array=[]\n",
    "    array_X=[]\n",
    "    array_Y=[]\n",
    "    lastX=0\n",
    "    for nX in range(numberX):\n",
    "        array_X.append(lastX)\n",
    "        lastY=0\n",
    "        for nY in range(numberY):\n",
    "            if len(array_Y)<numberY:\n",
    "                array_Y.append(lastY)\n",
    "            geometry_cell= generator_function(placement_function(lastX, lastY))\n",
    "            array.append(gdspy.CellReference(geometry_cell, (lastX, lastY), magnification=1))\n",
    "            #pw.array_singleReference(lastX, lastY, geometry_cell)\n",
    "            lastY+=(basis1[1])\n",
    "        lastX+=(basis1[0])\n",
    "    print(array_X)\n",
    "    print(array_Y)\n",
    "    array2_X= np.add(array_X, basis2[0]).tolist()\n",
    "    print(array2_X)\n",
    "    array2_Y= np.add(array_Y, basis2[1]).tolist()\n",
    "    print(array2_Y)\n",
    "    #print(array2_Y)\n",
    "    for n2X in array2_X:\n",
    "        for n2Y in array2_Y:\n",
    "            geometry_cell= generator_function(placement_function(n2X, n2Y))\n",
    "            array.append(gdspy.CellReference(geometry_cell, (n2X, n2Y), magnification=1))\n",
    "    return array"
   ]
  },
  {
   "cell_type": "code",
   "execution_count": 9,
   "metadata": {},
   "outputs": [],
   "source": [
    "#geometry1 = gdspy.Cell(\"CIRCLE\")\n",
    "#geometry1.add(gdspy.Round((0, 0), 250*nm, tolerance=0.001))\n",
    "#geometry2 = gdspy.Cell(\"OVAL\")\n",
    "#geometry2.add(gdspy.Round((0, 0), [250*nm, 233*nm], tolerance=1e-4))\n",
    "#def p_f(x,y):\n",
    "    #return np.sqrt(x**2 + y**2)\n",
    "#def g_f(distance):\n",
    "    #if distance < 500*nm:\n",
    "        #geometry1 = gdspy.Cell(\"CIRCLE\")\n",
    "        #geometry1.add(gdspy.Round((0, 0), 93*nm, tolerance=0.001))\n",
    "        #return geometry1\n",
    "    #else:\n",
    "        #geometry2 = gdspy.Cell(\"OVAL\")\n",
    "        #geometry2.add(gdspy.Round((0, 0), [93*nm, 80*nm], tolerance=1e-4))\n",
    "        #return geometry2\n",
    "#y = layout_placement3([300*nm,(np.sqrt(3))*100*nm],[150*nm,100*nm],5,8,g_f, p_f)"
   ]
  },
  {
   "cell_type": "code",
   "execution_count": 10,
   "metadata": {},
   "outputs": [],
   "source": [
    "#y"
   ]
  },
  {
   "cell_type": "code",
   "execution_count": 11,
   "metadata": {},
   "outputs": [],
   "source": [
    "def posArrayGenerator(a, b, numA, numB):\n",
    "    arr=[]\n",
    "    for x in range(-numA,numA):\n",
    "        for y in range(-numB,numB):\n",
    "            vec=[(x*a[0]+y*b[0], x*a[1]+y*b[1])]\n",
    "            arr=arr+vec\n",
    "    return arr"
   ]
  },
  {
   "cell_type": "code",
   "execution_count": 12,
   "metadata": {},
   "outputs": [],
   "source": [
    "def layout_placement4(basis1, basis2, numberX, numberY, generator_function, placement_function):\n",
    "    line1=[]\n",
    "    xs=[]\n",
    "    new_xs=[0,]\n",
    "    ys=[]\n",
    "    new_ys=[0,]\n",
    "    array=[]\n",
    "    x=0\n",
    "    y=0\n",
    "    while x <= numberX and y <= numberY:\n",
    "        xs.append(x)\n",
    "        ys.append(y)\n",
    "        geometry_cell= generator_function(placement_function(x, y))\n",
    "        array.append(gdspy.CellReference(geometry_cell, (x, y), magnification=1))\n",
    "        y= y+basis1[1]\n",
    "        x= x+basis1[0]\n",
    "    while min(new_xs)<= numberX and min(new_ys) <= numberY:\n",
    "        new_xs.clear()\n",
    "        new_ys.clear()\n",
    "        new_xs= np.subtract(xs, basis2[0]).tolist()\n",
    "        for num in np.add(xs, basis2[0]).tolist():\n",
    "            if num not in new_xs and num>=0:\n",
    "                new_xs.append(num)\n",
    "        new_ys= np.subtract(ys, basis2[1]).tolist()\n",
    "        for num in np.add(ys, basis2[1]).tolist():\n",
    "            if num not in new_ys and num>=0:\n",
    "                new_ys.append(num)\n",
    "        for x in new_xs:\n",
    "            for y in new_ys:\n",
    "                if x in range(0, numberX) and y in range(0, numberY):\n",
    "                    geometry_cell= generator_function(placement_function(x, y))\n",
    "                    array.append(gdspy.CellReference(geometry_cell, (x, y), magnification=1))\n",
    "       # xs.clear()\n",
    "        #ys.clear()\n",
    "        xs=new_xs.copy()\n",
    "        ys=new_ys.copy()\n",
    "    return array"
   ]
  },
  {
   "cell_type": "code",
   "execution_count": 13,
   "metadata": {},
   "outputs": [
    {
     "ename": "KeyboardInterrupt",
     "evalue": "",
     "output_type": "error",
     "traceback": [
      "\u001b[0;31m---------------------------------------------------------------------------\u001b[0m",
      "\u001b[0;31mKeyboardInterrupt\u001b[0m                         Traceback (most recent call last)",
      "\u001b[0;32m<ipython-input-13-448a00349084>\u001b[0m in \u001b[0;36m<module>\u001b[0;34m\u001b[0m\n\u001b[1;32m     14\u001b[0m         \u001b[0;31m#geometry2.add(gdspy.Round((0, 0), [93*nm, 80*nm], tolerance=1e-4))\u001b[0m\u001b[0;34m\u001b[0m\u001b[0;34m\u001b[0m\u001b[0;34m\u001b[0m\u001b[0m\n\u001b[1;32m     15\u001b[0m         \u001b[0;32mreturn\u001b[0m \u001b[0mgeometry2\u001b[0m\u001b[0;34m\u001b[0m\u001b[0;34m\u001b[0m\u001b[0m\n\u001b[0;32m---> 16\u001b[0;31m \u001b[0my\u001b[0m \u001b[0;34m=\u001b[0m \u001b[0mlayout_placement4\u001b[0m\u001b[0;34m(\u001b[0m\u001b[0;34m[\u001b[0m\u001b[0;36m4000\u001b[0m\u001b[0;34m*\u001b[0m\u001b[0mnm\u001b[0m\u001b[0;34m,\u001b[0m\u001b[0;34m(\u001b[0m\u001b[0mnp\u001b[0m\u001b[0;34m.\u001b[0m\u001b[0msqrt\u001b[0m\u001b[0;34m(\u001b[0m\u001b[0;36m3\u001b[0m\u001b[0;34m)\u001b[0m\u001b[0;34m)\u001b[0m\u001b[0;34m*\u001b[0m\u001b[0;36m3000\u001b[0m\u001b[0;34m*\u001b[0m\u001b[0mnm\u001b[0m\u001b[0;34m]\u001b[0m\u001b[0;34m,\u001b[0m\u001b[0;34m[\u001b[0m\u001b[0;36m4000\u001b[0m\u001b[0;34m*\u001b[0m\u001b[0mnm\u001b[0m\u001b[0;34m,\u001b[0m\u001b[0;36m3500\u001b[0m\u001b[0;34m*\u001b[0m\u001b[0mnm\u001b[0m\u001b[0;34m]\u001b[0m\u001b[0;34m,\u001b[0m\u001b[0;36m2\u001b[0m\u001b[0;34m,\u001b[0m\u001b[0;36m1\u001b[0m\u001b[0;34m,\u001b[0m\u001b[0mg_f\u001b[0m\u001b[0;34m,\u001b[0m \u001b[0mp_f\u001b[0m\u001b[0;34m)\u001b[0m\u001b[0;34m\u001b[0m\u001b[0;34m\u001b[0m\u001b[0m\n\u001b[0m",
      "\u001b[0;32m<ipython-input-12-b3040b003349>\u001b[0m in \u001b[0;36mlayout_placement4\u001b[0;34m(basis1, basis2, numberX, numberY, generator_function, placement_function)\u001b[0m\n\u001b[1;32m     28\u001b[0m         \u001b[0;32mfor\u001b[0m \u001b[0mx\u001b[0m \u001b[0;32min\u001b[0m \u001b[0mnew_xs\u001b[0m\u001b[0;34m:\u001b[0m\u001b[0;34m\u001b[0m\u001b[0;34m\u001b[0m\u001b[0m\n\u001b[1;32m     29\u001b[0m             \u001b[0;32mfor\u001b[0m \u001b[0my\u001b[0m \u001b[0;32min\u001b[0m \u001b[0mnew_ys\u001b[0m\u001b[0;34m:\u001b[0m\u001b[0;34m\u001b[0m\u001b[0;34m\u001b[0m\u001b[0m\n\u001b[0;32m---> 30\u001b[0;31m                 \u001b[0;32mif\u001b[0m \u001b[0mx\u001b[0m \u001b[0;32min\u001b[0m \u001b[0mrange\u001b[0m\u001b[0;34m(\u001b[0m\u001b[0;36m0\u001b[0m\u001b[0;34m,\u001b[0m \u001b[0mnumberX\u001b[0m\u001b[0;34m)\u001b[0m \u001b[0;32mand\u001b[0m \u001b[0my\u001b[0m \u001b[0;32min\u001b[0m \u001b[0mrange\u001b[0m\u001b[0;34m(\u001b[0m\u001b[0;36m0\u001b[0m\u001b[0;34m,\u001b[0m \u001b[0mnumberY\u001b[0m\u001b[0;34m)\u001b[0m\u001b[0;34m:\u001b[0m\u001b[0;34m\u001b[0m\u001b[0;34m\u001b[0m\u001b[0m\n\u001b[0m\u001b[1;32m     31\u001b[0m                     \u001b[0mgeometry_cell\u001b[0m\u001b[0;34m=\u001b[0m \u001b[0mgenerator_function\u001b[0m\u001b[0;34m(\u001b[0m\u001b[0mplacement_function\u001b[0m\u001b[0;34m(\u001b[0m\u001b[0mx\u001b[0m\u001b[0;34m,\u001b[0m \u001b[0my\u001b[0m\u001b[0;34m)\u001b[0m\u001b[0;34m)\u001b[0m\u001b[0;34m\u001b[0m\u001b[0;34m\u001b[0m\u001b[0m\n\u001b[1;32m     32\u001b[0m                     \u001b[0marray\u001b[0m\u001b[0;34m.\u001b[0m\u001b[0mappend\u001b[0m\u001b[0;34m(\u001b[0m\u001b[0mgdspy\u001b[0m\u001b[0;34m.\u001b[0m\u001b[0mCellReference\u001b[0m\u001b[0;34m(\u001b[0m\u001b[0mgeometry_cell\u001b[0m\u001b[0;34m,\u001b[0m \u001b[0;34m(\u001b[0m\u001b[0mx\u001b[0m\u001b[0;34m,\u001b[0m \u001b[0my\u001b[0m\u001b[0;34m)\u001b[0m\u001b[0;34m,\u001b[0m \u001b[0mmagnification\u001b[0m\u001b[0;34m=\u001b[0m\u001b[0;36m1\u001b[0m\u001b[0;34m)\u001b[0m\u001b[0;34m)\u001b[0m\u001b[0;34m\u001b[0m\u001b[0;34m\u001b[0m\u001b[0m\n",
      "\u001b[0;31mKeyboardInterrupt\u001b[0m: "
     ]
    }
   ],
   "source": [
    "geometry1 = gdspy.Cell(\"CIRCLE\")\n",
    "geometry1.add(gdspy.Round((0, 0), 250*nm, tolerance=0.001))\n",
    "geometry2 = gdspy.Cell(\"OVAL\")\n",
    "geometry2.add(gdspy.Round((0, 0), [250*nm, 233*nm], tolerance=1e-4))\n",
    "def p_f(x,y):\n",
    "    return np.sqrt(x**2 + y**2)\n",
    "def g_f(distance):\n",
    "    if distance < 500*nm:\n",
    "        #geometry1 = gdspy.Cell(\"CIRCLE\")\n",
    "        #geometry1.add(gdspy.Round((0, 0), 93*nm, tolerance=0.001))\n",
    "        return geometry1\n",
    "    else:\n",
    "        #geometry2 = gdspy.Cell(\"OVAL\")\n",
    "        #geometry2.add(gdspy.Round((0, 0), [93*nm, 80*nm], tolerance=1e-4))\n",
    "        return geometry2\n",
    "y = layout_placement4([4000*nm,(np.sqrt(3))*3000*nm],[4000*nm,3500*nm],2,1,g_f, p_f)"
   ]
  },
  {
   "cell_type": "code",
   "execution_count": null,
   "metadata": {},
   "outputs": [],
   "source": [
    "mm=[]\n",
    "x=posArrayGenerator((7,1),(3,9),10,15)\n",
    "x\n",
    "for i in range(len(x)):\n",
    "    mm.append(gdspy.CellReference(geometry1, (x[i][0], x[i][1]), magnification=1))"
   ]
  },
  {
   "cell_type": "code",
   "execution_count": null,
   "metadata": {},
   "outputs": [],
   "source": [
    "gdspy.current_library = gdspy.GdsLibrary()\n",
    "Lens = gdspy.Cell(\"LENS\")\n",
    "Lens.add(y)\n",
    "gdspy.current_library.add(Lens)\n",
    "gdspy.write_gds('Testing27.gds')"
   ]
  },
  {
   "cell_type": "code",
   "execution_count": null,
   "metadata": {},
   "outputs": [],
   "source": []
  }
 ],
 "metadata": {
  "kernelspec": {
   "display_name": "Python 3",
   "language": "python",
   "name": "python3"
  },
  "language_info": {
   "codemirror_mode": {
    "name": "ipython",
    "version": 3
   },
   "file_extension": ".py",
   "mimetype": "text/x-python",
   "name": "python",
   "nbconvert_exporter": "python",
   "pygments_lexer": "ipython3",
   "version": "3.8.3"
  }
 },
 "nbformat": 4,
 "nbformat_minor": 4
}
