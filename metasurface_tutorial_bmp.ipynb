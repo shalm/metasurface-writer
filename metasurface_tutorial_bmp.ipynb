{
 "cells": [
  {
   "cell_type": "code",
   "execution_count": 1,
   "metadata": {},
   "outputs": [],
   "source": [
    "#import necessary libraries and frameworks\n",
    "import gdspy\n",
    "import pandas as pd\n",
    "import numpy as np\n",
    "import sys\n",
    "\n",
    "import matplotlib.pylab as plt\n",
    "import matplotlib.pyplot\n",
    "\n",
    "from mpl_toolkits.mplot3d import Axes3D  # noqa: F401 unused import\n",
    "from matplotlib import cm\n",
    "from matplotlib.ticker import LinearLocator, FormatStrFormatter\n",
    "from numpy import savetxt\n",
    "from PIL import Image"
   ]
  },
  {
   "cell_type": "code",
   "execution_count": 2,
   "metadata": {},
   "outputs": [],
   "source": [
    "#input parameters\n",
    "baseUnit = 1 #layout scale(microns)\n",
    "m=baseUnit*1e6 \n",
    "nm = m*1E-9\n",
    "um = m*1E-6\n",
    "mm = m*1e-3\n",
    "# scaling = 5; #scaling factor\n",
    "\n",
    "periodX = 3*um #period along x-axis\n",
    "periodY = 3*um #period along y-axis\n",
    "Xmax = 1.5*mm #half of the metasurface length\n",
    "Ymax = 1.5*mm #half of the metasurface width\n",
    "Nx = 2*Xmax/periodX #number of meta-atoms along x-axis\n",
    "Ny = 2*Ymax/periodY #number of meta-atoms along y-axis\n",
    "phaseStep = 90 #phase step in degrees"
   ]
  },
  {
   "cell_type": "code",
   "execution_count": 3,
   "metadata": {},
   "outputs": [],
   "source": [
    "#read phase map\n",
    "# phaseMap = pd.read_csv(\"a-state_ideal.txt\", header=None)\n",
    "# phaseMap = phaseMap.values.tolist()"
   ]
  },
  {
   "cell_type": "code",
   "execution_count": 4,
   "metadata": {},
   "outputs": [],
   "source": [
    "#generating analytical phase map\n",
    "f = 2*mm #focal distance\n",
    "lam = 5.2*um #wavelength"
   ]
  },
  {
   "cell_type": "code",
   "execution_count": 5,
   "metadata": {},
   "outputs": [
    {
     "ename": "TypeError",
     "evalue": "object of type <class 'float'> cannot be safely interpreted as an integer.",
     "output_type": "error",
     "traceback": [
      "\u001b[0;31m---------------------------------------------------------------------------\u001b[0m",
      "\u001b[0;31mTypeError\u001b[0m                                 Traceback (most recent call last)",
      "\u001b[0;32m/opt/anaconda3/lib/python3.8/site-packages/numpy/core/function_base.py\u001b[0m in \u001b[0;36mlinspace\u001b[0;34m(start, stop, num, endpoint, retstep, dtype, axis)\u001b[0m\n\u001b[1;32m    116\u001b[0m     \u001b[0;32mtry\u001b[0m\u001b[0;34m:\u001b[0m\u001b[0;34m\u001b[0m\u001b[0;34m\u001b[0m\u001b[0m\n\u001b[0;32m--> 117\u001b[0;31m         \u001b[0mnum\u001b[0m \u001b[0;34m=\u001b[0m \u001b[0moperator\u001b[0m\u001b[0;34m.\u001b[0m\u001b[0mindex\u001b[0m\u001b[0;34m(\u001b[0m\u001b[0mnum\u001b[0m\u001b[0;34m)\u001b[0m\u001b[0;34m\u001b[0m\u001b[0;34m\u001b[0m\u001b[0m\n\u001b[0m\u001b[1;32m    118\u001b[0m     \u001b[0;32mexcept\u001b[0m \u001b[0mTypeError\u001b[0m\u001b[0;34m:\u001b[0m\u001b[0;34m\u001b[0m\u001b[0;34m\u001b[0m\u001b[0m\n",
      "\u001b[0;31mTypeError\u001b[0m: 'float' object cannot be interpreted as an integer",
      "\nDuring handling of the above exception, another exception occurred:\n",
      "\u001b[0;31mTypeError\u001b[0m                                 Traceback (most recent call last)",
      "\u001b[0;32m<ipython-input-5-fe5ea096e1c0>\u001b[0m in \u001b[0;36m<module>\u001b[0;34m\u001b[0m\n\u001b[1;32m      1\u001b[0m \u001b[0;31m#example of 1D ideal planar lens\u001b[0m\u001b[0;34m\u001b[0m\u001b[0;34m\u001b[0m\u001b[0;34m\u001b[0m\u001b[0m\n\u001b[0;32m----> 2\u001b[0;31m \u001b[0mx\u001b[0m \u001b[0;34m=\u001b[0m \u001b[0mnp\u001b[0m\u001b[0;34m.\u001b[0m\u001b[0mlinspace\u001b[0m\u001b[0;34m(\u001b[0m\u001b[0;34m-\u001b[0m\u001b[0mXmax\u001b[0m\u001b[0;34m,\u001b[0m\u001b[0mXmax\u001b[0m\u001b[0;34m,\u001b[0m\u001b[0mNx\u001b[0m\u001b[0;34m)\u001b[0m\u001b[0;34m\u001b[0m\u001b[0;34m\u001b[0m\u001b[0m\n\u001b[0m\u001b[1;32m      3\u001b[0m \u001b[0mphase_analyt0\u001b[0m \u001b[0;34m=\u001b[0m \u001b[0;36m2\u001b[0m\u001b[0;34m*\u001b[0m\u001b[0mnp\u001b[0m\u001b[0;34m.\u001b[0m\u001b[0mpi\u001b[0m\u001b[0;34m/\u001b[0m\u001b[0mlam\u001b[0m\u001b[0;34m*\u001b[0m\u001b[0;34m(\u001b[0m\u001b[0mnp\u001b[0m\u001b[0;34m.\u001b[0m\u001b[0msqrt\u001b[0m\u001b[0;34m(\u001b[0m\u001b[0mx\u001b[0m\u001b[0;34m**\u001b[0m\u001b[0;36m2\u001b[0m\u001b[0;34m+\u001b[0m\u001b[0mf\u001b[0m\u001b[0;34m**\u001b[0m\u001b[0;36m2\u001b[0m\u001b[0;34m)\u001b[0m\u001b[0;34m-\u001b[0m\u001b[0mf\u001b[0m\u001b[0;34m)\u001b[0m\u001b[0;34m\u001b[0m\u001b[0;34m\u001b[0m\u001b[0m\n\u001b[1;32m      4\u001b[0m \u001b[0mphase_analyt\u001b[0m \u001b[0;34m=\u001b[0m \u001b[0mnp\u001b[0m\u001b[0;34m.\u001b[0m\u001b[0mremainder\u001b[0m\u001b[0;34m(\u001b[0m\u001b[0mphase_analyt0\u001b[0m\u001b[0;34m,\u001b[0m\u001b[0;36m2\u001b[0m\u001b[0;34m*\u001b[0m\u001b[0mnp\u001b[0m\u001b[0;34m.\u001b[0m\u001b[0mpi\u001b[0m\u001b[0;34m)\u001b[0m\u001b[0;34m\u001b[0m\u001b[0;34m\u001b[0m\u001b[0m\n\u001b[1;32m      5\u001b[0m \u001b[0;34m\u001b[0m\u001b[0m\n",
      "\u001b[0;32m<__array_function__ internals>\u001b[0m in \u001b[0;36mlinspace\u001b[0;34m(*args, **kwargs)\u001b[0m\n",
      "\u001b[0;32m/opt/anaconda3/lib/python3.8/site-packages/numpy/core/function_base.py\u001b[0m in \u001b[0;36mlinspace\u001b[0;34m(start, stop, num, endpoint, retstep, dtype, axis)\u001b[0m\n\u001b[1;32m    117\u001b[0m         \u001b[0mnum\u001b[0m \u001b[0;34m=\u001b[0m \u001b[0moperator\u001b[0m\u001b[0;34m.\u001b[0m\u001b[0mindex\u001b[0m\u001b[0;34m(\u001b[0m\u001b[0mnum\u001b[0m\u001b[0;34m)\u001b[0m\u001b[0;34m\u001b[0m\u001b[0;34m\u001b[0m\u001b[0m\n\u001b[1;32m    118\u001b[0m     \u001b[0;32mexcept\u001b[0m \u001b[0mTypeError\u001b[0m\u001b[0;34m:\u001b[0m\u001b[0;34m\u001b[0m\u001b[0;34m\u001b[0m\u001b[0m\n\u001b[0;32m--> 119\u001b[0;31m         raise TypeError(\n\u001b[0m\u001b[1;32m    120\u001b[0m             \u001b[0;34m\"object of type {} cannot be safely interpreted as an integer.\"\u001b[0m\u001b[0;34m\u001b[0m\u001b[0;34m\u001b[0m\u001b[0m\n\u001b[1;32m    121\u001b[0m                 .format(type(num)))\n",
      "\u001b[0;31mTypeError\u001b[0m: object of type <class 'float'> cannot be safely interpreted as an integer."
     ]
    }
   ],
   "source": [
    "#example of 1D ideal planar lens\n",
    "x = np.linspace(-Xmax,Xmax,Nx)\n",
    "phase_analyt0 = 2*np.pi/lam*(np.sqrt(x**2+f**2)-f)\n",
    "phase_analyt = np.remainder(phase_analyt0,2*np.pi)\n",
    "\n",
    "#plotting the phase dependence\n",
    "plt.plot(x, phase_analyt)\n",
    "plt.xlabel('x, um')\n",
    "plt.ylabel('phase, rad')\n",
    "fig = matplotlib.pyplot.gcf()\n",
    "fig.set_size_inches(20, 4)"
   ]
  },
  {
   "cell_type": "code",
   "execution_count": 6,
   "metadata": {},
   "outputs": [
    {
     "ename": "TypeError",
     "evalue": "object of type <class 'float'> cannot be safely interpreted as an integer.",
     "output_type": "error",
     "traceback": [
      "\u001b[0;31m---------------------------------------------------------------------------\u001b[0m",
      "\u001b[0;31mTypeError\u001b[0m                                 Traceback (most recent call last)",
      "\u001b[0;32m/opt/anaconda3/lib/python3.8/site-packages/numpy/core/function_base.py\u001b[0m in \u001b[0;36mlinspace\u001b[0;34m(start, stop, num, endpoint, retstep, dtype, axis)\u001b[0m\n\u001b[1;32m    116\u001b[0m     \u001b[0;32mtry\u001b[0m\u001b[0;34m:\u001b[0m\u001b[0;34m\u001b[0m\u001b[0;34m\u001b[0m\u001b[0m\n\u001b[0;32m--> 117\u001b[0;31m         \u001b[0mnum\u001b[0m \u001b[0;34m=\u001b[0m \u001b[0moperator\u001b[0m\u001b[0;34m.\u001b[0m\u001b[0mindex\u001b[0m\u001b[0;34m(\u001b[0m\u001b[0mnum\u001b[0m\u001b[0;34m)\u001b[0m\u001b[0;34m\u001b[0m\u001b[0;34m\u001b[0m\u001b[0m\n\u001b[0m\u001b[1;32m    118\u001b[0m     \u001b[0;32mexcept\u001b[0m \u001b[0mTypeError\u001b[0m\u001b[0;34m:\u001b[0m\u001b[0;34m\u001b[0m\u001b[0;34m\u001b[0m\u001b[0m\n",
      "\u001b[0;31mTypeError\u001b[0m: 'float' object cannot be interpreted as an integer",
      "\nDuring handling of the above exception, another exception occurred:\n",
      "\u001b[0;31mTypeError\u001b[0m                                 Traceback (most recent call last)",
      "\u001b[0;32m<ipython-input-6-6318834fa460>\u001b[0m in \u001b[0;36m<module>\u001b[0;34m\u001b[0m\n\u001b[1;32m      1\u001b[0m \u001b[0;31m#generating 2D phase map for an ideal planar lens\u001b[0m\u001b[0;34m\u001b[0m\u001b[0;34m\u001b[0m\u001b[0;34m\u001b[0m\u001b[0m\n\u001b[0;32m----> 2\u001b[0;31m \u001b[0mx\u001b[0m \u001b[0;34m=\u001b[0m \u001b[0mnp\u001b[0m\u001b[0;34m.\u001b[0m\u001b[0mlinspace\u001b[0m\u001b[0;34m(\u001b[0m\u001b[0;34m-\u001b[0m\u001b[0mXmax\u001b[0m\u001b[0;34m,\u001b[0m\u001b[0mXmax\u001b[0m\u001b[0;34m,\u001b[0m\u001b[0mNx\u001b[0m\u001b[0;34m)\u001b[0m\u001b[0;34m\u001b[0m\u001b[0;34m\u001b[0m\u001b[0m\n\u001b[0m\u001b[1;32m      3\u001b[0m \u001b[0my\u001b[0m \u001b[0;34m=\u001b[0m \u001b[0mnp\u001b[0m\u001b[0;34m.\u001b[0m\u001b[0mlinspace\u001b[0m\u001b[0;34m(\u001b[0m\u001b[0;34m-\u001b[0m\u001b[0mYmax\u001b[0m\u001b[0;34m,\u001b[0m\u001b[0mYmax\u001b[0m\u001b[0;34m,\u001b[0m\u001b[0mNy\u001b[0m\u001b[0;34m)\u001b[0m\u001b[0;34m\u001b[0m\u001b[0;34m\u001b[0m\u001b[0m\n\u001b[1;32m      4\u001b[0m \u001b[0mphase\u001b[0m \u001b[0;34m=\u001b[0m \u001b[0;34m[\u001b[0m\u001b[0;34m]\u001b[0m\u001b[0;34m\u001b[0m\u001b[0;34m\u001b[0m\u001b[0m\n\u001b[1;32m      5\u001b[0m \u001b[0;34m\u001b[0m\u001b[0m\n",
      "\u001b[0;32m<__array_function__ internals>\u001b[0m in \u001b[0;36mlinspace\u001b[0;34m(*args, **kwargs)\u001b[0m\n",
      "\u001b[0;32m/opt/anaconda3/lib/python3.8/site-packages/numpy/core/function_base.py\u001b[0m in \u001b[0;36mlinspace\u001b[0;34m(start, stop, num, endpoint, retstep, dtype, axis)\u001b[0m\n\u001b[1;32m    117\u001b[0m         \u001b[0mnum\u001b[0m \u001b[0;34m=\u001b[0m \u001b[0moperator\u001b[0m\u001b[0;34m.\u001b[0m\u001b[0mindex\u001b[0m\u001b[0;34m(\u001b[0m\u001b[0mnum\u001b[0m\u001b[0;34m)\u001b[0m\u001b[0;34m\u001b[0m\u001b[0;34m\u001b[0m\u001b[0m\n\u001b[1;32m    118\u001b[0m     \u001b[0;32mexcept\u001b[0m \u001b[0mTypeError\u001b[0m\u001b[0;34m:\u001b[0m\u001b[0;34m\u001b[0m\u001b[0;34m\u001b[0m\u001b[0m\n\u001b[0;32m--> 119\u001b[0;31m         raise TypeError(\n\u001b[0m\u001b[1;32m    120\u001b[0m             \u001b[0;34m\"object of type {} cannot be safely interpreted as an integer.\"\u001b[0m\u001b[0;34m\u001b[0m\u001b[0;34m\u001b[0m\u001b[0m\n\u001b[1;32m    121\u001b[0m                 .format(type(num)))\n",
      "\u001b[0;31mTypeError\u001b[0m: object of type <class 'float'> cannot be safely interpreted as an integer."
     ]
    }
   ],
   "source": [
    "#generating 2D phase map for an ideal planar lens\n",
    "x = np.linspace(-Xmax,Xmax,Nx)\n",
    "y = np.linspace(-Ymax,Ymax,Ny)\n",
    "phase = []\n",
    "\n",
    "X,Y = np.meshgrid(x,y)\n",
    "phaseMap = np.rint(180/np.pi*np.remainder(2*np.pi/lam*(np.sqrt(X**2+Y**2+f**2)-f),2*np.pi)) #in degrees  "
   ]
  },
  {
   "cell_type": "code",
   "execution_count": 7,
   "metadata": {},
   "outputs": [
    {
     "ename": "NameError",
     "evalue": "name 'phaseMap' is not defined",
     "output_type": "error",
     "traceback": [
      "\u001b[0;31m---------------------------------------------------------------------------\u001b[0m",
      "\u001b[0;31mNameError\u001b[0m                                 Traceback (most recent call last)",
      "\u001b[0;32m<ipython-input-7-ed13217fe11c>\u001b[0m in \u001b[0;36m<module>\u001b[0;34m\u001b[0m\n\u001b[0;32m----> 1\u001b[0;31m \u001b[0msavetxt\u001b[0m\u001b[0;34m(\u001b[0m\u001b[0;34m'metasurface_phaseMap_cState.csv'\u001b[0m\u001b[0;34m,\u001b[0m \u001b[0mphaseMap\u001b[0m\u001b[0;34m,\u001b[0m \u001b[0mdelimiter\u001b[0m\u001b[0;34m=\u001b[0m\u001b[0;34m','\u001b[0m\u001b[0;34m)\u001b[0m\u001b[0;34m\u001b[0m\u001b[0;34m\u001b[0m\u001b[0m\n\u001b[0m",
      "\u001b[0;31mNameError\u001b[0m: name 'phaseMap' is not defined"
     ]
    }
   ],
   "source": [
    "savetxt('metasurface_phaseMap_cState.csv', phaseMap, delimiter=',')\n"
   ]
  },
  {
   "cell_type": "code",
   "execution_count": 8,
   "metadata": {},
   "outputs": [
    {
     "ename": "NameError",
     "evalue": "name 'X' is not defined",
     "output_type": "error",
     "traceback": [
      "\u001b[0;31m---------------------------------------------------------------------------\u001b[0m",
      "\u001b[0;31mNameError\u001b[0m                                 Traceback (most recent call last)",
      "\u001b[0;32m<ipython-input-8-9e5ec044f6be>\u001b[0m in \u001b[0;36m<module>\u001b[0;34m\u001b[0m\n\u001b[1;32m      1\u001b[0m \u001b[0;31m#2D surface plot\u001b[0m\u001b[0;34m\u001b[0m\u001b[0;34m\u001b[0m\u001b[0;34m\u001b[0m\u001b[0m\n\u001b[1;32m      2\u001b[0m \u001b[0mfig\u001b[0m \u001b[0;34m=\u001b[0m \u001b[0mplt\u001b[0m\u001b[0;34m.\u001b[0m\u001b[0mfigure\u001b[0m\u001b[0;34m(\u001b[0m\u001b[0;34m)\u001b[0m\u001b[0;34m\u001b[0m\u001b[0;34m\u001b[0m\u001b[0m\n\u001b[0;32m----> 3\u001b[0;31m \u001b[0mplt\u001b[0m\u001b[0;34m.\u001b[0m\u001b[0mcontourf\u001b[0m\u001b[0;34m(\u001b[0m\u001b[0mX\u001b[0m\u001b[0;34m,\u001b[0m\u001b[0mY\u001b[0m\u001b[0;34m,\u001b[0m\u001b[0mphaseMap\u001b[0m\u001b[0;34m,\u001b[0m \u001b[0mcmap\u001b[0m\u001b[0;34m=\u001b[0m\u001b[0mcm\u001b[0m\u001b[0;34m.\u001b[0m\u001b[0mjet\u001b[0m\u001b[0;34m)\u001b[0m\u001b[0;34m\u001b[0m\u001b[0;34m\u001b[0m\u001b[0m\n\u001b[0m\u001b[1;32m      4\u001b[0m \u001b[0mfig\u001b[0m \u001b[0;34m=\u001b[0m \u001b[0mmatplotlib\u001b[0m\u001b[0;34m.\u001b[0m\u001b[0mpyplot\u001b[0m\u001b[0;34m.\u001b[0m\u001b[0mgcf\u001b[0m\u001b[0;34m(\u001b[0m\u001b[0;34m)\u001b[0m\u001b[0;34m\u001b[0m\u001b[0;34m\u001b[0m\u001b[0m\n\u001b[1;32m      5\u001b[0m \u001b[0mfig\u001b[0m\u001b[0;34m.\u001b[0m\u001b[0mset_size_inches\u001b[0m\u001b[0;34m(\u001b[0m\u001b[0;36m10\u001b[0m\u001b[0;34m,\u001b[0m \u001b[0;36m10\u001b[0m\u001b[0;34m)\u001b[0m\u001b[0;34m\u001b[0m\u001b[0;34m\u001b[0m\u001b[0m\n",
      "\u001b[0;31mNameError\u001b[0m: name 'X' is not defined"
     ]
    },
    {
     "data": {
      "text/plain": [
       "<Figure size 432x288 with 0 Axes>"
      ]
     },
     "metadata": {},
     "output_type": "display_data"
    }
   ],
   "source": [
    "#2D surface plot\n",
    "fig = plt.figure()\n",
    "plt.contourf(X,Y,phaseMap, cmap=cm.jet)\n",
    "fig = matplotlib.pyplot.gcf()\n",
    "fig.set_size_inches(10, 10)"
   ]
  },
  {
   "cell_type": "code",
   "execution_count": 9,
   "metadata": {},
   "outputs": [],
   "source": [
    "#function to clean up cells\n",
    "def clearCell(cell):\n",
    "    cell.remove_polygons(lambda pts,layer,datatype:True)"
   ]
  },
  {
   "cell_type": "code",
   "execution_count": 10,
   "metadata": {},
   "outputs": [],
   "source": [
    "#layer and datatype tags\n",
    "# ld_Si = {\"layer\":1, \"datatype\":1}"
   ]
  },
  {
   "cell_type": "code",
   "execution_count": 11,
   "metadata": {},
   "outputs": [],
   "source": [
    "#creating a gdspy library\n",
    "lib = gdspy.GdsLibrary()"
   ]
  },
  {
   "cell_type": "code",
   "execution_count": 12,
   "metadata": {},
   "outputs": [],
   "source": [
    "#function to convert bmp file to gds polygon\n",
    "def bWToGDS(Width, Height, bwArray, layer, datatype, matVal=0):\n",
    "    #The Black Pixels will be represented as material, white is air\n",
    "    YRes=len(bwArray)\n",
    "    XRes=len(bwArray[0])\n",
    "    pX=Width/XRes\n",
    "    pY=Height/YRes\n",
    "    rects=[]\n",
    "    for i in range(len(bwArray)):\n",
    "        for j in range(len(bwArray[0])):\n",
    "           # print(bwArray[i][j])\n",
    "            if bwArray[i][j]==matVal:\n",
    "               # print(\"Adding Rect\")\n",
    "                #print((pX*i, pY*j))\n",
    "                rects.append(gdspy.Rectangle((pX*j,-pY*i),(pX*(j+1), -pY*(i+1)), layer, datatype))\n",
    "    patt=gdspy.boolean(rects[0], rects[1:], \"or\", max_points=0)\n",
    "    \n",
    "    return patt"
   ]
  },
  {
   "cell_type": "code",
   "execution_count": 13,
   "metadata": {},
   "outputs": [
    {
     "ename": "FileNotFoundError",
     "evalue": "[Errno 2] No such file or directory: 'C:/Users/Misha Shalaginov/Desktop/Python codes/metasurface/free-shape unit cells/meta-atom1.bmp'",
     "output_type": "error",
     "traceback": [
      "\u001b[0;31m---------------------------------------------------------------------------\u001b[0m",
      "\u001b[0;31mFileNotFoundError\u001b[0m                         Traceback (most recent call last)",
      "\u001b[0;32m<ipython-input-13-c46ae0ba05ba>\u001b[0m in \u001b[0;36m<module>\u001b[0;34m\u001b[0m\n\u001b[1;32m      6\u001b[0m \u001b[0mfile_name4\u001b[0m \u001b[0;34m=\u001b[0m \u001b[0mbmp_path\u001b[0m \u001b[0;34m+\u001b[0m \u001b[0;34m'/meta-atom4'\u001b[0m\u001b[0;34m+\u001b[0m\u001b[0;34m'.bmp'\u001b[0m\u001b[0;34m\u001b[0m\u001b[0;34m\u001b[0m\u001b[0m\n\u001b[1;32m      7\u001b[0m \u001b[0;34m\u001b[0m\u001b[0m\n\u001b[0;32m----> 8\u001b[0;31m \u001b[0mbmp1\u001b[0m \u001b[0;34m=\u001b[0m \u001b[0mImage\u001b[0m\u001b[0;34m.\u001b[0m\u001b[0mopen\u001b[0m\u001b[0;34m(\u001b[0m\u001b[0mfile_name1\u001b[0m\u001b[0;34m)\u001b[0m\u001b[0;34m\u001b[0m\u001b[0;34m\u001b[0m\u001b[0m\n\u001b[0m\u001b[1;32m      9\u001b[0m \u001b[0mMA1\u001b[0m \u001b[0;34m=\u001b[0m \u001b[0mnp\u001b[0m\u001b[0;34m.\u001b[0m\u001b[0masarray\u001b[0m\u001b[0;34m(\u001b[0m\u001b[0mbmp1\u001b[0m\u001b[0;34m)\u001b[0m\u001b[0;34m.\u001b[0m\u001b[0mcopy\u001b[0m\u001b[0;34m(\u001b[0m\u001b[0;34m)\u001b[0m\u001b[0;34m\u001b[0m\u001b[0;34m\u001b[0m\u001b[0m\n\u001b[1;32m     10\u001b[0m \u001b[0;34m\u001b[0m\u001b[0m\n",
      "\u001b[0;32m/opt/anaconda3/lib/python3.8/site-packages/PIL/Image.py\u001b[0m in \u001b[0;36mopen\u001b[0;34m(fp, mode)\u001b[0m\n\u001b[1;32m   2876\u001b[0m \u001b[0;34m\u001b[0m\u001b[0m\n\u001b[1;32m   2877\u001b[0m     \u001b[0;32mif\u001b[0m \u001b[0mfilename\u001b[0m\u001b[0;34m:\u001b[0m\u001b[0;34m\u001b[0m\u001b[0;34m\u001b[0m\u001b[0m\n\u001b[0;32m-> 2878\u001b[0;31m         \u001b[0mfp\u001b[0m \u001b[0;34m=\u001b[0m \u001b[0mbuiltins\u001b[0m\u001b[0;34m.\u001b[0m\u001b[0mopen\u001b[0m\u001b[0;34m(\u001b[0m\u001b[0mfilename\u001b[0m\u001b[0;34m,\u001b[0m \u001b[0;34m\"rb\"\u001b[0m\u001b[0;34m)\u001b[0m\u001b[0;34m\u001b[0m\u001b[0;34m\u001b[0m\u001b[0m\n\u001b[0m\u001b[1;32m   2879\u001b[0m         \u001b[0mexclusive_fp\u001b[0m \u001b[0;34m=\u001b[0m \u001b[0;32mTrue\u001b[0m\u001b[0;34m\u001b[0m\u001b[0;34m\u001b[0m\u001b[0m\n\u001b[1;32m   2880\u001b[0m \u001b[0;34m\u001b[0m\u001b[0m\n",
      "\u001b[0;31mFileNotFoundError\u001b[0m: [Errno 2] No such file or directory: 'C:/Users/Misha Shalaginov/Desktop/Python codes/metasurface/free-shape unit cells/meta-atom1.bmp'"
     ]
    }
   ],
   "source": [
    "# loading the bmp files\n",
    "bmp_path = 'C:/Users/Misha Shalaginov/Desktop/Python codes/metasurface/free-shape unit cells'\n",
    "file_name1 = bmp_path + '/meta-atom1'+'.bmp'\n",
    "file_name2 = bmp_path + '/meta-atom2'+'.bmp'\n",
    "file_name3 = bmp_path + '/meta-atom3'+'.bmp'\n",
    "file_name4 = bmp_path + '/meta-atom4'+'.bmp'\n",
    "\n",
    "bmp1 = Image.open(file_name1)\n",
    "MA1 = np.asarray(bmp1).copy() \n",
    "\n",
    "bmp2 = Image.open(file_name2)\n",
    "MA2 = np.asarray(bmp2).copy() \n",
    "\n",
    "bmp3 = Image.open(file_name3)\n",
    "MA3 = np.asarray(bmp3).copy() \n",
    "\n",
    "bmp4 = Image.open(file_name4)\n",
    "MA4 = np.asarray(bmp4).copy() "
   ]
  },
  {
   "cell_type": "code",
   "execution_count": 14,
   "metadata": {},
   "outputs": [],
   "source": [
    "# bwImg = Image.fromarray(MA1)"
   ]
  },
  {
   "cell_type": "code",
   "execution_count": 15,
   "metadata": {},
   "outputs": [
    {
     "ename": "NameError",
     "evalue": "name 'MA1' is not defined",
     "output_type": "error",
     "traceback": [
      "\u001b[0;31m---------------------------------------------------------------------------\u001b[0m",
      "\u001b[0;31mNameError\u001b[0m                                 Traceback (most recent call last)",
      "\u001b[0;32m<ipython-input-15-fc974d595843>\u001b[0m in \u001b[0;36m<module>\u001b[0;34m\u001b[0m\n\u001b[1;32m      1\u001b[0m \u001b[0;31m#test of bWToGDS\u001b[0m\u001b[0;34m\u001b[0m\u001b[0;34m\u001b[0m\u001b[0;34m\u001b[0m\u001b[0m\n\u001b[0;32m----> 2\u001b[0;31m \u001b[0mMA1poly\u001b[0m \u001b[0;34m=\u001b[0m \u001b[0mbWToGDS\u001b[0m \u001b[0;34m(\u001b[0m\u001b[0mperiodX\u001b[0m\u001b[0;34m,\u001b[0m \u001b[0mperiodY\u001b[0m\u001b[0;34m,\u001b[0m \u001b[0mMA1\u001b[0m\u001b[0;34m,\u001b[0m \u001b[0;36m1\u001b[0m\u001b[0;34m,\u001b[0m \u001b[0;36m1\u001b[0m\u001b[0;34m,\u001b[0m \u001b[0mmatVal\u001b[0m\u001b[0;34m=\u001b[0m\u001b[0;36m255\u001b[0m\u001b[0;34m)\u001b[0m\u001b[0;34m\u001b[0m\u001b[0;34m\u001b[0m\u001b[0m\n\u001b[0m\u001b[1;32m      3\u001b[0m \u001b[0mMA2poly\u001b[0m \u001b[0;34m=\u001b[0m \u001b[0mbWToGDS\u001b[0m \u001b[0;34m(\u001b[0m\u001b[0mperiodX\u001b[0m\u001b[0;34m,\u001b[0m \u001b[0mperiodY\u001b[0m\u001b[0;34m,\u001b[0m \u001b[0mMA2\u001b[0m\u001b[0;34m,\u001b[0m \u001b[0;36m1\u001b[0m\u001b[0;34m,\u001b[0m \u001b[0;36m1\u001b[0m\u001b[0;34m,\u001b[0m \u001b[0mmatVal\u001b[0m\u001b[0;34m=\u001b[0m\u001b[0;36m255\u001b[0m\u001b[0;34m)\u001b[0m\u001b[0;34m\u001b[0m\u001b[0;34m\u001b[0m\u001b[0m\n\u001b[1;32m      4\u001b[0m \u001b[0mMA3poly\u001b[0m \u001b[0;34m=\u001b[0m \u001b[0mbWToGDS\u001b[0m \u001b[0;34m(\u001b[0m\u001b[0mperiodX\u001b[0m\u001b[0;34m,\u001b[0m \u001b[0mperiodY\u001b[0m\u001b[0;34m,\u001b[0m \u001b[0mMA3\u001b[0m\u001b[0;34m,\u001b[0m \u001b[0;36m1\u001b[0m\u001b[0;34m,\u001b[0m \u001b[0;36m1\u001b[0m\u001b[0;34m,\u001b[0m \u001b[0mmatVal\u001b[0m\u001b[0;34m=\u001b[0m\u001b[0;36m255\u001b[0m\u001b[0;34m)\u001b[0m\u001b[0;34m\u001b[0m\u001b[0;34m\u001b[0m\u001b[0m\n\u001b[1;32m      5\u001b[0m \u001b[0mMA4poly\u001b[0m \u001b[0;34m=\u001b[0m \u001b[0mbWToGDS\u001b[0m \u001b[0;34m(\u001b[0m\u001b[0mperiodX\u001b[0m\u001b[0;34m,\u001b[0m \u001b[0mperiodY\u001b[0m\u001b[0;34m,\u001b[0m \u001b[0mMA4\u001b[0m\u001b[0;34m,\u001b[0m \u001b[0;36m1\u001b[0m\u001b[0;34m,\u001b[0m \u001b[0;36m1\u001b[0m\u001b[0;34m,\u001b[0m \u001b[0mmatVal\u001b[0m\u001b[0;34m=\u001b[0m\u001b[0;36m255\u001b[0m\u001b[0;34m)\u001b[0m\u001b[0;34m\u001b[0m\u001b[0;34m\u001b[0m\u001b[0m\n",
      "\u001b[0;31mNameError\u001b[0m: name 'MA1' is not defined"
     ]
    }
   ],
   "source": [
    "#test of bWToGDS\n",
    "MA1poly = bWToGDS (periodX, periodY, MA1, 1, 1, matVal=255)\n",
    "MA2poly = bWToGDS (periodX, periodY, MA2, 1, 1, matVal=255)\n",
    "MA3poly = bWToGDS (periodX, periodY, MA3, 1, 1, matVal=255)\n",
    "MA4poly = bWToGDS (periodX, periodY, MA4, 1, 1, matVal=255)"
   ]
  },
  {
   "cell_type": "code",
   "execution_count": 16,
   "metadata": {},
   "outputs": [],
   "source": [
    "# #MAPPING PHASE TO META-ATOM RADIUS\n",
    "# # phaseToRadiusMap = [[45+45*i,nm*(50+10*i)]for i in range(8)]\n",
    "# # phase to radius relations are taken from numerical simulations, vis WFOV a-Si metalens @ 680nm, height 800nm\n",
    "# phaseToRadius = [[0, 93*scaling*nm],[45, 87*scaling*nm], [90, 81.5*scaling*nm], [135,78*scaling*nm], [180,75*scaling*nm], [225, 59*scaling*nm], [270, 54.5*scaling*nm], [315, 46*scaling*nm]]\n",
    "# metaatomRadius = [93*scaling*nm, 87*scaling*nm, 81.5*scaling*nm, 78*scaling*nm, 75*scaling*nm, 59*scaling*nm, 54.5*scaling*nm, 46*scaling*nm]\n",
    "# phaseValue = [0, 45, 90, 135, 180, 225, 270, 315]\n",
    "phaseValue = [0, 90, 180, 270]"
   ]
  },
  {
   "cell_type": "code",
   "execution_count": 17,
   "metadata": {},
   "outputs": [],
   "source": [
    "# #GENERATING META-ATOM lIBRARY\n",
    "# # disks = []\n",
    "# # for i in range(len(metaatomRadius)):\n",
    "# # disks.append(gdspy.Round((periodX*i, 0), metaatomRadius[i], number_of_points=12))  \n",
    "# disk1 = gdspy.Round((0, 0), metaatomRadius[0], tolerance=0.001)\n",
    "# disk2 = gdspy.Round((0, 0), metaatomRadius[1], tolerance=0.001)\n",
    "# disk3 = gdspy.Round((0, 0), metaatomRadius[2], tolerance=0.001)\n",
    "# disk4 = gdspy.Round((0, 0), metaatomRadius[3], tolerance=0.001)\n",
    "# disk5 = gdspy.Round((0, 0), metaatomRadius[4], tolerance=0.001)\n",
    "# disk6 = gdspy.Round((0, 0), metaatomRadius[5], tolerance=0.001)\n",
    "# disk7 = gdspy.Round((0, 0), metaatomRadius[6], tolerance=0.001)\n",
    "# disk8 = gdspy.Round((0, 0), metaatomRadius[7], tolerance=0.001)"
   ]
  },
  {
   "cell_type": "code",
   "execution_count": 18,
   "metadata": {},
   "outputs": [
    {
     "ename": "NameError",
     "evalue": "name 'MA1poly' is not defined",
     "output_type": "error",
     "traceback": [
      "\u001b[0;31m---------------------------------------------------------------------------\u001b[0m",
      "\u001b[0;31mNameError\u001b[0m                                 Traceback (most recent call last)",
      "\u001b[0;32m<ipython-input-18-1e3be3b29e03>\u001b[0m in \u001b[0;36m<module>\u001b[0;34m\u001b[0m\n\u001b[1;32m      1\u001b[0m \u001b[0mMA1cell\u001b[0m\u001b[0;34m=\u001b[0m\u001b[0mlib\u001b[0m\u001b[0;34m.\u001b[0m\u001b[0mnew_cell\u001b[0m\u001b[0;34m(\u001b[0m\u001b[0;34m\"metaatom-1\"\u001b[0m\u001b[0;34m)\u001b[0m\u001b[0;34m\u001b[0m\u001b[0;34m\u001b[0m\u001b[0m\n\u001b[0;32m----> 2\u001b[0;31m \u001b[0mMA1cell\u001b[0m\u001b[0;34m.\u001b[0m\u001b[0madd\u001b[0m\u001b[0;34m(\u001b[0m\u001b[0mMA1poly\u001b[0m\u001b[0;34m)\u001b[0m\u001b[0;34m\u001b[0m\u001b[0;34m\u001b[0m\u001b[0m\n\u001b[0m\u001b[1;32m      3\u001b[0m \u001b[0;34m\u001b[0m\u001b[0m\n\u001b[1;32m      4\u001b[0m \u001b[0mMA2cell\u001b[0m\u001b[0;34m=\u001b[0m\u001b[0mlib\u001b[0m\u001b[0;34m.\u001b[0m\u001b[0mnew_cell\u001b[0m\u001b[0;34m(\u001b[0m\u001b[0;34m\"metaatom-2\"\u001b[0m\u001b[0;34m)\u001b[0m\u001b[0;34m\u001b[0m\u001b[0;34m\u001b[0m\u001b[0m\n\u001b[1;32m      5\u001b[0m \u001b[0mMA2cell\u001b[0m\u001b[0;34m.\u001b[0m\u001b[0madd\u001b[0m\u001b[0;34m(\u001b[0m\u001b[0mMA2poly\u001b[0m\u001b[0;34m)\u001b[0m\u001b[0;34m\u001b[0m\u001b[0;34m\u001b[0m\u001b[0m\n",
      "\u001b[0;31mNameError\u001b[0m: name 'MA1poly' is not defined"
     ]
    }
   ],
   "source": [
    "MA1cell=lib.new_cell(\"metaatom-1\")\n",
    "MA1cell.add(MA1poly)\n",
    "\n",
    "MA2cell=lib.new_cell(\"metaatom-2\")\n",
    "MA2cell.add(MA2poly)\n",
    "\n",
    "MA3cell=lib.new_cell(\"metaatom-3\")\n",
    "MA3cell.add(MA3poly)\n",
    "\n",
    "MA4cell=lib.new_cell(\"metaatom-4\")\n",
    "MA4cell.add(MA4poly)\n",
    "\n",
    "# MA5cell=lib.new_cell(\"metaatom-5\")\n",
    "# MA5cell.add(disk5)\n",
    "\n",
    "# MA6cell=lib.new_cell(\"metaatom-6\")\n",
    "# MA6cell.add(disk6)\n",
    "\n",
    "# MA7cell=lib.new_cell(\"metaatom-7\")\n",
    "# MA7cell.add(disk7)\n",
    "\n",
    "# MA8cell=lib.new_cell(\"metaatom-8\")\n",
    "# MA8cell.add(disk8)\n",
    "\n",
    "MAcell = [MA1cell, MA2cell, MA3cell, MA4cell]\n",
    "# MAcell = [MA1cell, MA2cell, MA3cell, MA4cell, MA5cell, MA6cell, MA7cell, MA8cell]\n",
    "\n",
    "# lib.add([MA1cell, MA2cell, MA3cell,MA4cell,MA5cell,MA6cell,MA7cell,MA8cell])\n",
    "# lib.write_gds('Metasurface1.gds')\n",
    "# gdspy.LayoutViewer()"
   ]
  },
  {
   "cell_type": "code",
   "execution_count": 19,
   "metadata": {},
   "outputs": [],
   "source": [
    "#CONVERTING PHASE MAP to RADIUS MAP\n",
    "def phaseToCellMap(center, phase, phaseValue, MAcell):\n",
    "    for i in range(len(phaseValue)):\n",
    "        if phase<phaseValue[i]+phaseStep/2 and phase>=phaseValue[i]-phaseStep/2:\n",
    "            return gdspy.CellReference(MAcell[i], center)\n",
    "        elif phase>=max(phaseValue)+phaseStep/2:\n",
    "            return gdspy.CellReference(MAcell[0], center)"
   ]
  },
  {
   "cell_type": "code",
   "execution_count": 20,
   "metadata": {},
   "outputs": [],
   "source": [
    "#DISCRETIZING PHASE MAP\n",
    "def phaseToCellMap(center, phase, phaseValue, MAcell):\n",
    "    for i in range(len(phaseValue)):\n",
    "        if phase<phaseValue[i]+phaseStep/2 and phase>=phaseValue[i]-phaseStep/2:\n",
    "            phaseMap[i]\n",
    "        elif phase>=max(phaseValue)+phaseStep/2:\n",
    "            return gdspy.CellReference(MAcell[0], center)"
   ]
  },
  {
   "cell_type": "code",
   "execution_count": null,
   "metadata": {},
   "outputs": [],
   "source": []
  },
  {
   "cell_type": "code",
   "execution_count": 21,
   "metadata": {},
   "outputs": [],
   "source": [
    "#GENERATING SPATIAL X,Y GRID\n",
    "def spatialMapGenerator(periodX, periodY, phaseMap):\n",
    "    spatialMap = [[[periodX*x, periodY*y] for x in range(len(phaseMap))] for y in range(len(phaseMap[0]))]\n",
    "    return spatialMap"
   ]
  },
  {
   "cell_type": "code",
   "execution_count": 22,
   "metadata": {},
   "outputs": [
    {
     "ename": "NameError",
     "evalue": "name 'phaseMap' is not defined",
     "output_type": "error",
     "traceback": [
      "\u001b[0;31m---------------------------------------------------------------------------\u001b[0m",
      "\u001b[0;31mNameError\u001b[0m                                 Traceback (most recent call last)",
      "\u001b[0;32m<ipython-input-22-f56aaaae737c>\u001b[0m in \u001b[0;36m<module>\u001b[0;34m\u001b[0m\n\u001b[1;32m      1\u001b[0m \u001b[0;31m#PUTTING IDEAL PHASE MAP ON A GRID (discretization)\u001b[0m\u001b[0;34m\u001b[0m\u001b[0;34m\u001b[0m\u001b[0;34m\u001b[0m\u001b[0m\n\u001b[0;32m----> 2\u001b[0;31m \u001b[0mspatialMap\u001b[0m \u001b[0;34m=\u001b[0m \u001b[0mspatialMapGenerator\u001b[0m\u001b[0;34m(\u001b[0m\u001b[0mperiodX\u001b[0m\u001b[0;34m,\u001b[0m \u001b[0mperiodY\u001b[0m\u001b[0;34m,\u001b[0m \u001b[0mphaseMap\u001b[0m\u001b[0;34m)\u001b[0m\u001b[0;34m\u001b[0m\u001b[0;34m\u001b[0m\u001b[0m\n\u001b[0m\u001b[1;32m      3\u001b[0m \u001b[0mspatialMap\u001b[0m\u001b[0;34m\u001b[0m\u001b[0;34m\u001b[0m\u001b[0m\n",
      "\u001b[0;31mNameError\u001b[0m: name 'phaseMap' is not defined"
     ]
    }
   ],
   "source": [
    "#PUTTING IDEAL PHASE MAP ON A GRID (discretization)\n",
    "spatialMap = spatialMapGenerator(periodX, periodY, phaseMap)\n",
    "spatialMap"
   ]
  },
  {
   "cell_type": "code",
   "execution_count": 23,
   "metadata": {},
   "outputs": [],
   "source": [
    "#CREATING THE LIBRARY of META-ATOMS\n",
    "#function to generate a circle of radius 'r' at position 'center'\n",
    "# def phaseDiskPoly(phase, phaseToRadiusMap, center):\n",
    "#     r = phaseToDiskRadius(phase, phaseToRadiusMap)\n",
    "#     disk = gdspy.Round(center,r) #!change round; return the cell reference, #documention on self reference\n",
    "#     return disk"
   ]
  },
  {
   "cell_type": "code",
   "execution_count": 24,
   "metadata": {},
   "outputs": [],
   "source": [
    "#function to generate 2D map of circles (metasurface)\n",
    "def metalensGenerator(phaseMap, phaseToCellMap, spatialMap):\n",
    "    metasurface = []\n",
    "    for x in range(len(phaseMap)):\n",
    "        for y in range(len(phaseMap[0])):\n",
    "            metasurface.append(phaseToCellMap(spatialMap[x][y], phaseMap[x][y], phaseValue, MAcell))\n",
    "    return metasurface\n",
    "        "
   ]
  },
  {
   "cell_type": "code",
   "execution_count": 25,
   "metadata": {},
   "outputs": [
    {
     "ename": "NameError",
     "evalue": "name 'phaseMap' is not defined",
     "output_type": "error",
     "traceback": [
      "\u001b[0;31m---------------------------------------------------------------------------\u001b[0m",
      "\u001b[0;31mNameError\u001b[0m                                 Traceback (most recent call last)",
      "\u001b[0;32m<ipython-input-25-83dae8f4b023>\u001b[0m in \u001b[0;36m<module>\u001b[0;34m\u001b[0m\n\u001b[0;32m----> 1\u001b[0;31m \u001b[0mmetalens\u001b[0m \u001b[0;34m=\u001b[0m \u001b[0mmetalensGenerator\u001b[0m\u001b[0;34m(\u001b[0m\u001b[0mphaseMap\u001b[0m\u001b[0;34m,\u001b[0m \u001b[0mphaseToCellMap\u001b[0m\u001b[0;34m,\u001b[0m \u001b[0mspatialMap\u001b[0m\u001b[0;34m)\u001b[0m\u001b[0;34m\u001b[0m\u001b[0;34m\u001b[0m\u001b[0m\n\u001b[0m",
      "\u001b[0;31mNameError\u001b[0m: name 'phaseMap' is not defined"
     ]
    }
   ],
   "source": [
    "metalens = metalensGenerator(phaseMap, phaseToCellMap, spatialMap)"
   ]
  },
  {
   "cell_type": "code",
   "execution_count": 26,
   "metadata": {
    "scrolled": true
   },
   "outputs": [
    {
     "ename": "NameError",
     "evalue": "name 'metalens' is not defined",
     "output_type": "error",
     "traceback": [
      "\u001b[0;31m---------------------------------------------------------------------------\u001b[0m",
      "\u001b[0;31mNameError\u001b[0m                                 Traceback (most recent call last)",
      "\u001b[0;32m<ipython-input-26-6d530978acbf>\u001b[0m in \u001b[0;36m<module>\u001b[0;34m\u001b[0m\n\u001b[0;32m----> 1\u001b[0;31m \u001b[0mmetalens\u001b[0m\u001b[0;34m\u001b[0m\u001b[0;34m\u001b[0m\u001b[0m\n\u001b[0m",
      "\u001b[0;31mNameError\u001b[0m: name 'metalens' is not defined"
     ]
    }
   ],
   "source": [
    "metalens"
   ]
  },
  {
   "cell_type": "code",
   "execution_count": 27,
   "metadata": {},
   "outputs": [],
   "source": [
    "gdspy.current_library = gdspy.GdsLibrary()\n"
   ]
  },
  {
   "cell_type": "code",
   "execution_count": 28,
   "metadata": {},
   "outputs": [
    {
     "ename": "NameError",
     "evalue": "name 'metalens' is not defined",
     "output_type": "error",
     "traceback": [
      "\u001b[0;31m---------------------------------------------------------------------------\u001b[0m",
      "\u001b[0;31mNameError\u001b[0m                                 Traceback (most recent call last)",
      "\u001b[0;32m<ipython-input-28-38915293930d>\u001b[0m in \u001b[0;36m<module>\u001b[0;34m\u001b[0m\n\u001b[1;32m      1\u001b[0m \u001b[0mLens\u001b[0m\u001b[0;34m=\u001b[0m\u001b[0mgdspy\u001b[0m\u001b[0;34m.\u001b[0m\u001b[0mCell\u001b[0m\u001b[0;34m(\u001b[0m\u001b[0;34m\"Lens-1\"\u001b[0m\u001b[0;34m)\u001b[0m\u001b[0;34m\u001b[0m\u001b[0;34m\u001b[0m\u001b[0m\n\u001b[0;32m----> 2\u001b[0;31m \u001b[0mLens\u001b[0m\u001b[0;34m.\u001b[0m\u001b[0madd\u001b[0m\u001b[0;34m(\u001b[0m\u001b[0mmetalens\u001b[0m\u001b[0;34m)\u001b[0m\u001b[0;34m\u001b[0m\u001b[0;34m\u001b[0m\u001b[0m\n\u001b[0m",
      "\u001b[0;31mNameError\u001b[0m: name 'metalens' is not defined"
     ]
    }
   ],
   "source": [
    "Lens=gdspy.Cell(\"Lens-1\")\n",
    "Lens.add(metalens)"
   ]
  },
  {
   "cell_type": "code",
   "execution_count": 29,
   "metadata": {},
   "outputs": [],
   "source": [
    "#writing gds file\n",
    "gdspy.current_library = gdspy.GdsLibrary()\n",
    "gdspy.current_library.add(Lens)\n",
    "# gdspy.current_library.add(top)\n",
    "# top.add(gdspy.CellReference(Lens))\n",
    "# top.add(gdspy.CellReference(Lens, (2*mm,2*mm)))\n",
    "gdspy.write_gds('20200830_metasurface3mm.gds')"
   ]
  },
  {
   "cell_type": "code",
   "execution_count": null,
   "metadata": {},
   "outputs": [],
   "source": []
  },
  {
   "cell_type": "code",
   "execution_count": null,
   "metadata": {},
   "outputs": [],
   "source": []
  },
  {
   "cell_type": "code",
   "execution_count": null,
   "metadata": {},
   "outputs": [],
   "source": []
  },
  {
   "cell_type": "code",
   "execution_count": null,
   "metadata": {},
   "outputs": [],
   "source": []
  }
 ],
 "metadata": {
  "kernelspec": {
   "display_name": "Python 3",
   "language": "python",
   "name": "python3"
  },
  "language_info": {
   "codemirror_mode": {
    "name": "ipython",
    "version": 3
   },
   "file_extension": ".py",
   "mimetype": "text/x-python",
   "name": "python",
   "nbconvert_exporter": "python",
   "pygments_lexer": "ipython3",
   "version": "3.8.3"
  }
 },
 "nbformat": 4,
 "nbformat_minor": 2
}
