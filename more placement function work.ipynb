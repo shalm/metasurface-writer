{
 "cells": [
  {
   "cell_type": "code",
   "execution_count": 1,
   "metadata": {},
   "outputs": [],
   "source": [
    "import gdspy\n",
    "import pandas as pd\n",
    "import numpy as np\n",
    "import sys\n",
    "import math\n",
    "import pattern_writer as pw"
   ]
  },
  {
   "cell_type": "code",
   "execution_count": 2,
   "metadata": {},
   "outputs": [],
   "source": [
    "baseUnit = 1 #layout scale(microns)\n",
    "m=baseUnit*1e6 \n",
    "nm = m*1E-9\n",
    "sys.setrecursionlimit(10**6)"
   ]
  },
  {
   "cell_type": "code",
   "execution_count": 3,
   "metadata": {},
   "outputs": [],
   "source": [
    "def posArrayGenerator(a, b, numA, numB, generator_function, placement_function):\n",
    "    arr=[]\n",
    "    new_x=0\n",
    "    new_y=0\n",
    "    for x in range(-numA,numA+1):\n",
    "        for y in range(-numB,numB+1):\n",
    "            print(x)\n",
    "            print(y)\n",
    "            vec=[(x*a[0]+y*b[0], x*a[1]+y*b[1])]\n",
    "            geometry_cell= generator_function(placement_function(vec[0]))\n",
    "            arr.append(gdspy.CellReference(geometry_cell, (vec[0][0], vec[0][1]), magnification=1))\n",
    "    return arr"
   ]
  },
  {
   "cell_type": "code",
   "execution_count": 4,
   "metadata": {},
   "outputs": [],
   "source": [
    "def recArrayGen(a,b,dim,pos,prevDir, generator_function, placement_function, arr=[]):\n",
    "    [dimX, dimY] = dim\n",
    "    pax=(a[0]+pos[0])<=dimX/2 and (a[0] + pos[0])>=-dimX/2\n",
    "    pay=(a[1]+pos[1])<=dimY/2 and (a[1] + pos[1])>=-dimY/2\n",
    "    pa=bool(pax*pay)\n",
    "    nax=(-a[0]+pos[0])<=dimX/2 and (-a[0] + pos[0])>=-dimX/2\n",
    "    nay=(-a[1]+pos[1])<=dimY/2 and (-a[1] + pos[1])>=-dimY/2\n",
    "    na=bool(nax*nay)\n",
    "    \n",
    "    pbx=(b[0]+pos[0])<=dimX/2 and (b[0] + pos[0])>=-dimX/2\n",
    "    pby=(b[1]+pos[1])<=dimY/2 and (b[1] + pos[1])>=-dimY/2\n",
    "    pb=bool(pbx*pby)\n",
    "    nbx=(-b[0]+pos[0])<=dimX/2 and (-b[0] + pos[0])>=-dimX/2\n",
    "    nby=(-b[1]+pos[1])<=dimY/2 and (-b[1] + pos[1])>=-dimY/2\n",
    "    nb=bool(nbx*nby)\n",
    "#     pax=(a[0]+pos[0])<=dimX and (a[0] + pos[0])>=0\n",
    "#     pay=(a[1]+pos[1])<=dimY and (a[1] + pos[1])>=0\n",
    "#     pa=bool(pax*pay)\n",
    "    \n",
    "#     pbx=(b[0]+pos[0])<=dimX and (b[0] + pos[0])>=0\n",
    "#     pby=(b[1]+pos[1])<=dimY and (b[1] + pos[1])>=0\n",
    "#     pb=bool(pbx*pby)\n",
    "#     print(\"pa\")\n",
    "#     print(pa)\n",
    "#     print(na)\n",
    "#     print(pb)\n",
    "#     print(nb)\n",
    "    #if prevDir!=(-1,0) and pa:\n",
    "    if (pos[0], pos[1]) in prev_pos:\n",
    "        return arr\n",
    "    \n",
    "    prev_pos.append((pos[0], pos[1]))\n",
    "    geometry_cell= generator_function(placement_function((pos[0], pos[1])))\n",
    "    arr.append(gdspy.CellReference(geometry_cell, (pos[0], pos[1]), magnification=1))\n",
    "    #print(prev_pos)\n",
    "    if pa:\n",
    "        vec=(a[0] + pos[0], a[1]+pos[1])\n",
    "#         geometry_cell= generator_function(placement_function((pos[0], pos[1])))\n",
    "#         arr.append(gdspy.CellReference(geometry_cell, (pos[0], pos[1]), magnification=1))\n",
    "        recArrayGen(a,b,dim, vec, (1,0), generator_function, placement_function, arr=arr)\n",
    "    \n",
    "    #if prevDir!=(1,0) and na:\n",
    "    if na:\n",
    "        vec=(-a[0] + pos[0], -a[1]+pos[1])\n",
    "#         geometry_cell= generator_function(placement_function((pos[0], pos[1])))\n",
    "#         arr.append(gdspy.CellReference(geometry_cell, (pos[0], pos[1]), magnification=1))\n",
    "        recArrayGen(a,b,dim, vec, (-1,0), generator_function, placement_function, arr=arr)\n",
    "\n",
    "    #if prevDir!=(0,-1) and pb:\n",
    "    if pb:\n",
    "        vec=(b[0] + pos[0], b[1]+pos[1])\n",
    "#         geometry_cell= generator_function(placement_function((pos[0], pos[1])))\n",
    "#         arr.append(gdspy.CellReference(geometry_cell, (pos[0], pos[1]), magnification=1))\n",
    "        recArrayGen(a,b,dim, vec, (0,1), generator_function, placement_function, arr=arr)\n",
    "    \n",
    "    #if prevDir!=(0,1) and nb:\n",
    "    if nb:\n",
    "        vec=(-b[0] + pos[0], -b[1]+pos[1])\n",
    "#         geometry_cell= generator_function(placement_function((pos[0], pos[1])))\n",
    "#         arr.append(gdspy.CellReference(geometry_cell, (pos[0], pos[1]), magnification=1))\n",
    "        recArrayGen(a,b,dim, vec, (0,-1), generator_function, placement_function, arr=arr)\n",
    "   \n",
    "    \n",
    "    return arr\n",
    "    "
   ]
  },
  {
   "cell_type": "code",
   "execution_count": 5,
   "metadata": {},
   "outputs": [],
   "source": [
    "gdspy.current_library = gdspy.GdsLibrary()\n",
    "geometry1 = gdspy.Cell(\"CIRCLE\")\n",
    "geometry1.add(gdspy.Round((0, 0), 72*nm, tolerance=0.001))\n",
    "geometry2 = gdspy.Cell(\"OVAL\")\n",
    "geometry2.add(gdspy.Round((0, 0), [72*nm, 64*nm], tolerance=1e-4))\n",
    "def p_f(point):\n",
    "    return np.sqrt(point[0]**2 + point[1]**2)\n",
    "def g_f(distance):\n",
    "    if distance < 25:\n",
    "        #geometry1 = gdspy.Cell(\"CIRCLE\")\n",
    "        #geometry1.add(gdspy.Round((0, 0), 93*nm, tolerance=0.001))\n",
    "        return geometry1\n",
    "    else:\n",
    "        #geometry2 = gdspy.Cell(\"OVAL\")\n",
    "        #geometry2.add(gdspy.Round((0, 0), [93*nm, 80*nm], tolerance=1e-4))\n",
    "        return geometry2\n",
    "#y = layout_placement2(230*nm, 570*nm,70,4,6,g_f, p_f)\n",
    "#y = posArrayGenerator([4,2], [5,3], 2, 2 ,g_f, p_f)\n",
    "a=[1,0]\n",
    "b=[.5,math.sqrt(3)/2]\n",
    "pos=(0,0)\n",
    "prevDir=(0,0)\n",
    "prev_pos=[]\n",
    "arr=[]\n",
    "dim=[6000, 6000]\n",
    "cells=recArrayGen(a,b,dim,pos,prevDir, g_f, p_f, arr)"
   ]
  },
  {
   "cell_type": "code",
   "execution_count": 6,
   "metadata": {},
   "outputs": [],
   "source": [
    "gdspy.current_library = gdspy.GdsLibrary()\n",
    "\n",
    "Lens = gdspy.Cell(\"LENS\")\n",
    "Lens.add(cells)\n",
    "gdspy.current_library.add(Lens)\n",
    "gdspy.write_gds('Testing37.gds')"
   ]
  },
  {
   "cell_type": "code",
   "execution_count": 7,
   "metadata": {},
   "outputs": [
    {
     "data": {
      "text/plain": [
       "241"
      ]
     },
     "execution_count": 7,
     "metadata": {},
     "output_type": "execute_result"
    }
   ],
   "source": [
    "len(cells)"
   ]
  },
  {
   "cell_type": "code",
   "execution_count": 8,
   "metadata": {},
   "outputs": [],
   "source": [
    "#len(prev_pos)"
   ]
  },
  {
   "cell_type": "code",
   "execution_count": null,
   "metadata": {},
   "outputs": [],
   "source": []
  }
 ],
 "metadata": {
  "kernelspec": {
   "display_name": "Python 3",
   "language": "python",
   "name": "python3"
  },
  "language_info": {
   "codemirror_mode": {
    "name": "ipython",
    "version": 3
   },
   "file_extension": ".py",
   "mimetype": "text/x-python",
   "name": "python",
   "nbconvert_exporter": "python",
   "pygments_lexer": "ipython3",
   "version": "3.8.3"
  }
 },
 "nbformat": 4,
 "nbformat_minor": 4
}
